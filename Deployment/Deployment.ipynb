{
  "nbformat": 4,
  "nbformat_minor": 0,
  "metadata": {
    "colab": {
      "provenance": []
    },
    "kernelspec": {
      "name": "python3",
      "display_name": "Python 3"
    },
    "language_info": {
      "name": "python"
    }
  },
  "cells": [
    {
      "cell_type": "markdown",
      "source": [
        "SMS Spam Detector Code can be found here:\n",
        "https://github.com/y-pred/NLP/blob/main/SMS_Spam_Detection.ipynb"
      ],
      "metadata": {
        "id": "HsFCh_wcuPBn"
      }
    },
    {
      "cell_type": "code",
      "source": [
        "!pip install flask\n",
        "!pip install pyngrok"
      ],
      "metadata": {
        "colab": {
          "base_uri": "https://localhost:8080/"
        },
        "id": "KZ5szbWHO_97",
        "outputId": "b0f9f0a6-37db-418d-cfb3-958dda9ffef7"
      },
      "execution_count": 1,
      "outputs": [
        {
          "output_type": "stream",
          "name": "stdout",
          "text": [
            "Requirement already satisfied: flask in /usr/local/lib/python3.10/dist-packages (2.2.5)\n",
            "Requirement already satisfied: Werkzeug>=2.2.2 in /usr/local/lib/python3.10/dist-packages (from flask) (3.0.1)\n",
            "Requirement already satisfied: Jinja2>=3.0 in /usr/local/lib/python3.10/dist-packages (from flask) (3.1.3)\n",
            "Requirement already satisfied: itsdangerous>=2.0 in /usr/local/lib/python3.10/dist-packages (from flask) (2.1.2)\n",
            "Requirement already satisfied: click>=8.0 in /usr/local/lib/python3.10/dist-packages (from flask) (8.1.7)\n",
            "Requirement already satisfied: MarkupSafe>=2.0 in /usr/local/lib/python3.10/dist-packages (from Jinja2>=3.0->flask) (2.1.5)\n",
            "Collecting pyngrok\n",
            "  Downloading pyngrok-7.1.1-py3-none-any.whl (21 kB)\n",
            "Requirement already satisfied: PyYAML in /usr/local/lib/python3.10/dist-packages (from pyngrok) (6.0.1)\n",
            "Installing collected packages: pyngrok\n",
            "Successfully installed pyngrok-7.1.1\n"
          ]
        }
      ]
    },
    {
      "cell_type": "code",
      "source": [
        "import os\n",
        "\n",
        "# Create a directory named \"templates\" in the current working directory\n",
        "os.makedirs(\"templates\", exist_ok=True)"
      ],
      "metadata": {
        "id": "oXBQyCGDeJsZ"
      },
      "execution_count": 2,
      "outputs": []
    },
    {
      "cell_type": "code",
      "source": [
        "from pyngrok import ngrok\n",
        "import threading\n",
        "import time\n",
        "import joblib\n",
        "from sklearn.feature_extraction.text import TfidfVectorizer\n",
        "import re\n",
        "import nltk\n",
        "from nltk.corpus import stopwords\n",
        "from nltk.tokenize import word_tokenize\n",
        "from nltk.stem.porter import PorterStemmer\n",
        "nltk.download('stopwords')\n",
        "nltk.download('punkt')\n",
        "\n",
        "# Set authentication token if you haven't already done so\n",
        "ngrok.set_auth_token(\"2c54S0BCzBB0ZiGw5FSS82ulUNb_7wsNuyyPb22woziTCnnXn\")\n",
        "\n",
        "# Load the transformed_text function\n",
        "def data_preprocessing(text):\n",
        "  #lower casing\n",
        "  text = text.lower()\n",
        "\n",
        "  #remove punctuations\n",
        "  text = re.sub(r'[^\\w\\s]', '', text)\n",
        "\n",
        "  #remove stopwords\n",
        "  new_text = []\n",
        "  for word in text.split():\n",
        "    if word in stopwords.words('english'):\n",
        "      new_text.append('')\n",
        "    else:\n",
        "      new_text.append(word)\n",
        "  x=new_text[:]\n",
        "  new_text.clear\n",
        "  text =  ' '.join(x)\n",
        "\n",
        "  #Tokenize\n",
        "  text = word_tokenize(text)\n",
        "\n",
        "  #Stemming\n",
        "  new_list = []\n",
        "  ps = PorterStemmer()\n",
        "  for word in text:\n",
        "    new_list.append(ps.stem(word))\n",
        "  text = \" \".join(new_list)\n",
        "\n",
        "  return text\n",
        "\n",
        "# Load the TF-IDF vectorizer\n",
        "tfidf_vectorizer = joblib.load('vectorizer.pkl')  # Replace 'tfidf_vectorizer.pkl' with the path to your TF-IDF vectorizer pickle file\n",
        "\n",
        "# Load the model\n",
        "model = joblib.load('model.pkl')  # Replace 'spam_classifier_model.pkl' with the path to your trained model pickle file\n",
        "\n",
        "# Start Flask app in a separate thread\n",
        "def start_flask_app():\n",
        "    from flask import Flask, request, jsonify, render_template\n",
        "\n",
        "    app = Flask(__name__)\n",
        "\n",
        "    @app.route('/')\n",
        "    def index():\n",
        "        return render_template('index.html')\n",
        "\n",
        "    @app.route('/classify', methods=['POST'])\n",
        "\n",
        "    def classify_email():\n",
        "        data = request.form['email_text']\n",
        "        transformed_data = data_preprocessing(data)\n",
        "        print(transformed_data)\n",
        "        tfidf_data = tfidf_vectorizer.transform([transformed_data])\n",
        "        prediction = model.predict(tfidf_data)[0]\n",
        "        print(prediction)\n",
        "        # Convert prediction to a Python integer\n",
        "        prediction = int(prediction)\n",
        "        value=\"\"\n",
        "\n",
        "        if prediction == 1:\n",
        "          value = 'its a spam'\n",
        "        else:\n",
        "          value = 'not a spam'\n",
        "\n",
        "\n",
        "        # Return prediction as JSON response\n",
        "        return jsonify({'prediction': value})\n",
        "\n",
        "    app.run(port=5005)\n",
        "\n",
        "flask_thread = threading.Thread(target=start_flask_app)\n",
        "flask_thread.start()\n",
        "\n",
        "# Wait for the Flask app to start\n",
        "time.sleep(2)\n",
        "\n",
        "# Start ngrok tunnel\n",
        "ngrok_tunnel = ngrok.connect(addr='5005', proto='http', bind_tls=True)\n",
        "\n",
        "# Print the URL\n",
        "print(' * Tunnel URL:', ngrok_tunnel.public_url)\n",
        "\n",
        "# Keep the Colab session alive\n",
        "while True:\n",
        "    time.sleep(3600)  # Keep the session alive for 1 hour.\n"
      ],
      "metadata": {
        "colab": {
          "base_uri": "https://localhost:8080/",
          "height": 699
        },
        "id": "0M4WzYcFWfBd",
        "outputId": "0b16360d-8c09-42bf-b14b-93336b2bed3a"
      },
      "execution_count": 8,
      "outputs": [
        {
          "metadata": {
            "tags": null
          },
          "name": "stdout",
          "output_type": "stream",
          "text": [
            " * Serving Flask app '__main__'\n",
            " * Debug mode: off\n"
          ]
        },
        {
          "metadata": {
            "tags": null
          },
          "name": "stderr",
          "output_type": "stream",
          "text": [
            "[nltk_data] Downloading package stopwords to /root/nltk_data...\n",
            "[nltk_data]   Package stopwords is already up-to-date!\n",
            "[nltk_data] Downloading package punkt to /root/nltk_data...\n",
            "[nltk_data]   Package punkt is already up-to-date!\n",
            "INFO:werkzeug:\u001b[31m\u001b[1mWARNING: This is a development server. Do not use it in a production deployment. Use a production WSGI server instead.\u001b[0m\n",
            " * Running on http://127.0.0.1:5005\n",
            "INFO:werkzeug:\u001b[33mPress CTRL+C to quit\u001b[0m\n"
          ]
        },
        {
          "metadata": {
            "tags": null
          },
          "name": "stdout",
          "output_type": "stream",
          "text": [
            " * Tunnel URL: https://1eca-34-138-9-91.ngrok-free.app\n"
          ]
        },
        {
          "metadata": {
            "tags": null
          },
          "name": "stderr",
          "output_type": "stream",
          "text": [
            "INFO:werkzeug:127.0.0.1 - - [11/Feb/2024 05:23:02] \"GET / HTTP/1.1\" 200 -\n",
            "INFO:werkzeug:127.0.0.1 - - [11/Feb/2024 05:23:03] \"\u001b[33mGET /favicon.ico HTTP/1.1\u001b[0m\" 404 -\n",
            "INFO:werkzeug:127.0.0.1 - - [11/Feb/2024 05:23:05] \"POST /classify HTTP/1.1\" 200 -\n"
          ]
        },
        {
          "metadata": {
            "tags": null
          },
          "name": "stdout",
          "output_type": "stream",
          "text": [
            "urgent ur award complimentari trip eurodisinc trav acoentry41 å1000 claim txt di 87121 186å150morefrmmob shracomorsglsuplt10 ls1 3aj\n",
            "1\n"
          ]
        },
        {
          "output_type": "stream",
          "name": "stderr",
          "text": [
            "INFO:werkzeug:127.0.0.1 - - [11/Feb/2024 05:29:01] \"GET / HTTP/1.1\" 200 -\n",
            "INFO:werkzeug:127.0.0.1 - - [11/Feb/2024 05:29:19] \"POST /classify HTTP/1.1\" 200 -\n"
          ]
        },
        {
          "output_type": "stream",
          "name": "stdout",
          "text": [
            "12hr upto 40 extra 20 homecentrecom till 11th feb11am use code th20 entir furnitur order rs9999 tc mhomceninleoputkk\n",
            "1\n"
          ]
        },
        {
          "output_type": "stream",
          "name": "stderr",
          "text": [
            "INFO:werkzeug:127.0.0.1 - - [11/Feb/2024 05:29:36] \"POST /classify HTTP/1.1\" 200 -\n"
          ]
        },
        {
          "output_type": "stream",
          "name": "stdout",
          "text": [
            "12hr upto 40 extra 20 homecentrecom till 11th feb11am use code th20 entir furnitur order rs9999 tc mhomceninleoputkk\n",
            "1\n"
          ]
        },
        {
          "output_type": "stream",
          "name": "stderr",
          "text": [
            "INFO:werkzeug:127.0.0.1 - - [11/Feb/2024 05:30:08] \"GET / HTTP/1.1\" 200 -\n",
            "INFO:werkzeug:127.0.0.1 - - [11/Feb/2024 05:30:30] \"GET / HTTP/1.1\" 200 -\n",
            "INFO:werkzeug:127.0.0.1 - - [11/Feb/2024 05:30:49] \"POST /classify HTTP/1.1\" 200 -\n"
          ]
        },
        {
          "output_type": "stream",
          "name": "stdout",
          "text": [
            "dont miss superior voic qualiti faster call connect better experi airtel chang smartphon set click uairtelinvolt\n",
            "0\n"
          ]
        },
        {
          "output_type": "error",
          "ename": "KeyboardInterrupt",
          "evalue": "",
          "traceback": [
            "\u001b[0;31m---------------------------------------------------------------------------\u001b[0m",
            "\u001b[0;31mKeyboardInterrupt\u001b[0m                         Traceback (most recent call last)",
            "\u001b[0;32m<ipython-input-8-39a970dae061>\u001b[0m in \u001b[0;36m<cell line: 101>\u001b[0;34m()\u001b[0m\n\u001b[1;32m    100\u001b[0m \u001b[0;31m# Keep the Colab session alive\u001b[0m\u001b[0;34m\u001b[0m\u001b[0;34m\u001b[0m\u001b[0m\n\u001b[1;32m    101\u001b[0m \u001b[0;32mwhile\u001b[0m \u001b[0;32mTrue\u001b[0m\u001b[0;34m:\u001b[0m\u001b[0;34m\u001b[0m\u001b[0;34m\u001b[0m\u001b[0m\n\u001b[0;32m--> 102\u001b[0;31m     \u001b[0mtime\u001b[0m\u001b[0;34m.\u001b[0m\u001b[0msleep\u001b[0m\u001b[0;34m(\u001b[0m\u001b[0;36m3600\u001b[0m\u001b[0;34m)\u001b[0m  \u001b[0;31m# Keep the session alive for 1 hour.\u001b[0m\u001b[0;34m\u001b[0m\u001b[0;34m\u001b[0m\u001b[0m\n\u001b[0m",
            "\u001b[0;31mKeyboardInterrupt\u001b[0m: "
          ]
        }
      ]
    }
  ]
}