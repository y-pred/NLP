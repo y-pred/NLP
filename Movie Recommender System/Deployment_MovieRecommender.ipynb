{
  "cells": [
    {
      "cell_type": "code",
      "execution_count": null,
      "metadata": {
        "colab": {
          "base_uri": "https://localhost:8080/"
        },
        "id": "M2wDXa-C6uwq",
        "outputId": "364f85c5-9beb-4a13-c90a-bc004c3e2993"
      },
      "outputs": [
        {
          "output_type": "stream",
          "name": "stdout",
          "text": [
            "Requirement already satisfied: flask in /usr/local/lib/python3.10/dist-packages (2.2.5)\n",
            "Requirement already satisfied: Werkzeug>=2.2.2 in /usr/local/lib/python3.10/dist-packages (from flask) (3.0.1)\n",
            "Requirement already satisfied: Jinja2>=3.0 in /usr/local/lib/python3.10/dist-packages (from flask) (3.1.3)\n",
            "Requirement already satisfied: itsdangerous>=2.0 in /usr/local/lib/python3.10/dist-packages (from flask) (2.1.2)\n",
            "Requirement already satisfied: click>=8.0 in /usr/local/lib/python3.10/dist-packages (from flask) (8.1.7)\n",
            "Requirement already satisfied: MarkupSafe>=2.0 in /usr/local/lib/python3.10/dist-packages (from Jinja2>=3.0->flask) (2.1.5)\n",
            "Collecting pyngrok\n",
            "  Downloading pyngrok-7.1.2-py3-none-any.whl (22 kB)\n",
            "Requirement already satisfied: PyYAML>=5.1 in /usr/local/lib/python3.10/dist-packages (from pyngrok) (6.0.1)\n",
            "Installing collected packages: pyngrok\n",
            "Successfully installed pyngrok-7.1.2\n"
          ]
        }
      ],
      "source": [
        "!pip install flask\n",
        "!pip install pyngrok"
      ]
    },
    {
      "cell_type": "code",
      "source": [
        "import os\n",
        "\n",
        "# Create a directory named \"templates\" in the current working directory\n",
        "os.makedirs(\"templates\", exist_ok=True)"
      ],
      "metadata": {
        "id": "sA1zxwXeVMRr"
      },
      "execution_count": null,
      "outputs": []
    },
    {
      "cell_type": "code",
      "source": [
        "from pyngrok import ngrok\n",
        "import threading\n",
        "import time\n",
        "from flask import Flask"
      ],
      "metadata": {
        "id": "GKBXxy-ImmFj"
      },
      "execution_count": null,
      "outputs": []
    },
    {
      "cell_type": "code",
      "source": [
        "from flask import Flask, render_template, request, jsonify\n",
        "import joblib\n",
        "import pandas as pd\n",
        "\n",
        "# Set authentication token\n",
        "ngrok.set_auth_token(\"2c54S0BCzBB0ZiGw5FSS82ulUNb_7wsNuyyPb22woziTCnnXn\")\n",
        "\n",
        "#Load pickel files\n",
        "movies_dict  = joblib.load('movie_dict.pkl')\n",
        "similarity = joblib.load('similarity.pkl')\n",
        "\n",
        "# Start Flask app in a separate thread\n",
        "def start_flask_app():\n",
        "    app = Flask(__name__)\n",
        "\n",
        "    @app.route('/')\n",
        "    def index():\n",
        "      movies = pd.DataFrame(movies_dict)\n",
        "      return render_template('index.html',movies=movies['title'].values)\n",
        "\n",
        "    @app.route('/recommend', methods=['POST'])\n",
        "    def recommend():\n",
        "      selected_movie = request.form.get('movie')\n",
        "      recommendations = get_recommendations(selected_movie)\n",
        "      return jsonify({'recommendations':recommendations})\n",
        "\n",
        "    def get_recommendations(selected_movie):\n",
        "      movies = pd.DataFrame(movies_dict)\n",
        "      index = movies[movies['title'] == selected_movie].index[0]\n",
        "      distances = sorted(list(enumerate(similarity[index])), reverse=True, key=lambda x: x[1])\n",
        "      recommended_movie_names = []\n",
        "      for i in distances[1:6]:\n",
        "        movie_id = movies.iloc[i[0]].id\n",
        "        recommended_movie_names.append(movies.iloc[i[0]].title)\n",
        "\n",
        "      return recommended_movie_names\n",
        "\n",
        "\n",
        "    app.run(port=5003)\n",
        "\n",
        "flask_thread = threading.Thread(target=start_flask_app)\n",
        "flask_thread.start()\n",
        "\n",
        "# Wait for the Flask app to start\n",
        "time.sleep(2)\n",
        "\n",
        "# Start ngrok tunnel\n",
        "ngrok_tunnel = ngrok.connect(addr='5003', proto='http', bind_tls=True)\n",
        "\n",
        "# Print the URL\n",
        "print(' * Tunnel URL:', ngrok_tunnel.public_url)\n",
        "\n",
        "# Keep the Colab session alive\n",
        "while True:\n",
        "    time.sleep(3600)  # Keep the session alive for 1 hour.\n"
      ],
      "metadata": {
        "id": "PAqq-jq4VYyd",
        "colab": {
          "base_uri": "https://localhost:8080/",
          "height": 369
        },
        "outputId": "0224bb79-d251-41e2-ee50-eef44d4135cb"
      },
      "execution_count": null,
      "outputs": [
        {
          "output_type": "stream",
          "name": "stdout",
          "text": [
            " * Serving Flask app '__main__'\n",
            " * Debug mode: off\n"
          ]
        },
        {
          "output_type": "stream",
          "name": "stderr",
          "text": [
            "INFO:werkzeug:\u001b[31m\u001b[1mWARNING: This is a development server. Do not use it in a production deployment. Use a production WSGI server instead.\u001b[0m\n",
            " * Running on http://127.0.0.1:5003\n",
            "INFO:werkzeug:\u001b[33mPress CTRL+C to quit\u001b[0m\n"
          ]
        },
        {
          "output_type": "stream",
          "name": "stdout",
          "text": [
            " * Tunnel URL: https://8414-34-73-174-74.ngrok-free.app\n"
          ]
        },
        {
          "output_type": "stream",
          "name": "stderr",
          "text": [
            "INFO:werkzeug:127.0.0.1 - - [17/Feb/2024 14:20:50] \"GET / HTTP/1.1\" 200 -\n",
            "INFO:werkzeug:127.0.0.1 - - [17/Feb/2024 14:20:53] \"\u001b[33mGET /favicon.ico HTTP/1.1\u001b[0m\" 404 -\n",
            "INFO:werkzeug:127.0.0.1 - - [17/Feb/2024 14:21:26] \"POST /recommend HTTP/1.1\" 200 -\n",
            "INFO:werkzeug:127.0.0.1 - - [17/Feb/2024 14:22:04] \"POST /recommend HTTP/1.1\" 200 -\n"
          ]
        },
        {
          "output_type": "error",
          "ename": "KeyboardInterrupt",
          "evalue": "",
          "traceback": [
            "\u001b[0;31m---------------------------------------------------------------------------\u001b[0m",
            "\u001b[0;31mKeyboardInterrupt\u001b[0m                         Traceback (most recent call last)",
            "\u001b[0;32m<ipython-input-13-906862676ace>\u001b[0m in \u001b[0;36m<cell line: 54>\u001b[0;34m()\u001b[0m\n\u001b[1;32m     53\u001b[0m \u001b[0;31m# Keep the Colab session alive\u001b[0m\u001b[0;34m\u001b[0m\u001b[0;34m\u001b[0m\u001b[0m\n\u001b[1;32m     54\u001b[0m \u001b[0;32mwhile\u001b[0m \u001b[0;32mTrue\u001b[0m\u001b[0;34m:\u001b[0m\u001b[0;34m\u001b[0m\u001b[0;34m\u001b[0m\u001b[0m\n\u001b[0;32m---> 55\u001b[0;31m     \u001b[0mtime\u001b[0m\u001b[0;34m.\u001b[0m\u001b[0msleep\u001b[0m\u001b[0;34m(\u001b[0m\u001b[0;36m3600\u001b[0m\u001b[0;34m)\u001b[0m  \u001b[0;31m# Keep the session alive for 1 hour.\u001b[0m\u001b[0;34m\u001b[0m\u001b[0;34m\u001b[0m\u001b[0m\n\u001b[0m",
            "\u001b[0;31mKeyboardInterrupt\u001b[0m: "
          ]
        }
      ]
    }
  ],
  "metadata": {
    "colab": {
      "provenance": []
    },
    "kernelspec": {
      "display_name": "Python 3",
      "name": "python3"
    },
    "language_info": {
      "name": "python"
    }
  },
  "nbformat": 4,
  "nbformat_minor": 0
}