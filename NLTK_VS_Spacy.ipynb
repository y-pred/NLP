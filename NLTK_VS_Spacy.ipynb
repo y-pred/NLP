{
  "nbformat": 4,
  "nbformat_minor": 0,
  "metadata": {
    "colab": {
      "provenance": []
    },
    "kernelspec": {
      "name": "python3",
      "display_name": "Python 3"
    },
    "language_info": {
      "name": "python"
    }
  },
  "cells": [
    {
      "cell_type": "code",
      "execution_count": 1,
      "metadata": {
        "id": "7lU4o8zIDJLX"
      },
      "outputs": [],
      "source": [
        "import spacy"
      ]
    },
    {
      "cell_type": "code",
      "source": [
        "nlp = spacy.load('en_core_web_sm')\n",
        "doc = nlp(\"Batman is in love with superman. Superman is more powerful. I'm liking it. Did you se Dr. Mahesh\")"
      ],
      "metadata": {
        "id": "0XuPv5r2DOMg"
      },
      "execution_count": 7,
      "outputs": []
    },
    {
      "cell_type": "code",
      "source": [
        "type(doc)"
      ],
      "metadata": {
        "colab": {
          "base_uri": "https://localhost:8080/"
        },
        "id": "sd1jJjONDf8N",
        "outputId": "d1ec9bd0-84b5-4c26-859d-4c86709fde5d"
      },
      "execution_count": 8,
      "outputs": [
        {
          "output_type": "execute_result",
          "data": {
            "text/plain": [
              "spacy.tokens.doc.Doc"
            ]
          },
          "metadata": {},
          "execution_count": 8
        }
      ]
    },
    {
      "cell_type": "code",
      "source": [
        "for sentence in doc.sents:\n",
        "  print(sentence)"
      ],
      "metadata": {
        "colab": {
          "base_uri": "https://localhost:8080/"
        },
        "id": "axy50wggDl8F",
        "outputId": "abd4fab2-16b3-4c63-cb6c-74a023a1d389"
      },
      "execution_count": 9,
      "outputs": [
        {
          "output_type": "stream",
          "name": "stdout",
          "text": [
            "Batman is in love with superman.\n",
            "Superman is more powerful.\n",
            "I'm liking it.\n",
            "Did you se Dr. Mahesh\n"
          ]
        }
      ]
    },
    {
      "cell_type": "code",
      "source": [
        "for sentense in doc.sents:\n",
        "  for word in sentense:\n",
        "    print(word)"
      ],
      "metadata": {
        "colab": {
          "base_uri": "https://localhost:8080/"
        },
        "id": "TCV4uMDsD94H",
        "outputId": "fb4a83b0-bf40-4d27-81fa-64fe247d5f15"
      },
      "execution_count": 10,
      "outputs": [
        {
          "output_type": "stream",
          "name": "stdout",
          "text": [
            "Batman\n",
            "is\n",
            "in\n",
            "love\n",
            "with\n",
            "superman\n",
            ".\n",
            "Superman\n",
            "is\n",
            "more\n",
            "powerful\n",
            ".\n",
            "I\n",
            "'m\n",
            "liking\n",
            "it\n",
            ".\n",
            "Did\n",
            "you\n",
            "se\n",
            "Dr.\n",
            "Mahesh\n"
          ]
        }
      ]
    },
    {
      "cell_type": "markdown",
      "source": [
        "Sentense and Word Tokenization in NLTK"
      ],
      "metadata": {
        "id": "9c3JA9oaEQJN"
      }
    },
    {
      "cell_type": "code",
      "source": [
        "import nltk\n",
        "from nltk.tokenize import sent_tokenize, word_tokenize\n",
        "nltk.download('punkt')\n"
      ],
      "metadata": {
        "colab": {
          "base_uri": "https://localhost:8080/"
        },
        "id": "V1Vlc4xKEURe",
        "outputId": "118dbc3d-a6c9-4627-859a-61ca6e86d1ff"
      },
      "execution_count": 16,
      "outputs": [
        {
          "output_type": "stream",
          "name": "stderr",
          "text": [
            "[nltk_data] Downloading package punkt to /root/nltk_data...\n",
            "[nltk_data]   Package punkt is already up-to-date!\n"
          ]
        },
        {
          "output_type": "execute_result",
          "data": {
            "text/plain": [
              "True"
            ]
          },
          "metadata": {},
          "execution_count": 16
        }
      ]
    },
    {
      "cell_type": "code",
      "source": [
        "sent_tokenize(\"Batman is in love with superman. Superman is more powerful. I'm liking it. Did you se Dr. Mahesh\")"
      ],
      "metadata": {
        "colab": {
          "base_uri": "https://localhost:8080/"
        },
        "id": "M0O3QqMDEuil",
        "outputId": "7ca8a084-c69c-4fd5-8445-dedc76a99546"
      },
      "execution_count": 17,
      "outputs": [
        {
          "output_type": "execute_result",
          "data": {
            "text/plain": [
              "['Batman is in love with superman.',\n",
              " 'Superman is more powerful.',\n",
              " \"I'm liking it.\",\n",
              " 'Did you se Dr. Mahesh']"
            ]
          },
          "metadata": {},
          "execution_count": 17
        }
      ]
    },
    {
      "cell_type": "code",
      "source": [
        "word_tokenize(\"Batman is in love with superman. Superman is more powerful. I'm liking it. Did you se Dr. Mahesh\")"
      ],
      "metadata": {
        "colab": {
          "base_uri": "https://localhost:8080/"
        },
        "id": "Bj6PhqrwEvhd",
        "outputId": "6e51b715-cf7c-4770-d791-cf2feef50146"
      },
      "execution_count": 18,
      "outputs": [
        {
          "output_type": "execute_result",
          "data": {
            "text/plain": [
              "['Batman',\n",
              " 'is',\n",
              " 'in',\n",
              " 'love',\n",
              " 'with',\n",
              " 'superman',\n",
              " '.',\n",
              " 'Superman',\n",
              " 'is',\n",
              " 'more',\n",
              " 'powerful',\n",
              " '.',\n",
              " 'I',\n",
              " \"'m\",\n",
              " 'liking',\n",
              " 'it',\n",
              " '.',\n",
              " 'Did',\n",
              " 'you',\n",
              " 'se',\n",
              " 'Dr.',\n",
              " 'Mahesh']"
            ]
          },
          "metadata": {},
          "execution_count": 18
        }
      ]
    }
  ]
}