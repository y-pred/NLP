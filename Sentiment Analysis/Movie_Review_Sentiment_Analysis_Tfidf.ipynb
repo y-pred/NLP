{
  "nbformat": 4,
  "nbformat_minor": 0,
  "metadata": {
    "colab": {
      "provenance": []
    },
    "kernelspec": {
      "name": "python3",
      "display_name": "Python 3"
    },
    "language_info": {
      "name": "python"
    }
  },
  "cells": [
    {
      "cell_type": "code",
      "execution_count": null,
      "metadata": {
        "id": "oyW0UT8VDlY1"
      },
      "outputs": [],
      "source": [
        "import pandas as pd\n",
        "\n",
        "filepath_train = '/content/train.tsv'\n",
        "filepath_test = '/content/test.tsv'\n",
        "\n",
        "df = pd.read_csv(filepath_train,sep = '\\t')\n",
        "df_test = pd.read_csv(filepath_test,sep='\\t')"
      ]
    },
    {
      "cell_type": "code",
      "source": [
        "df.sample(5)"
      ],
      "metadata": {
        "colab": {
          "base_uri": "https://localhost:8080/",
          "height": 206
        },
        "id": "Zrpqdv0jEE8y",
        "outputId": "68358558-c334-4b58-adb3-e48268154526"
      },
      "execution_count": null,
      "outputs": [
        {
          "output_type": "execute_result",
          "data": {
            "text/plain": [
              "        PhraseId  SentenceId  \\\n",
              "136996    136997        7409   \n",
              "90534      90535        4713   \n",
              "25220      25221        1152   \n",
              "13996      13997         603   \n",
              "38650      38651        1842   \n",
              "\n",
              "                                                   Phrase  Sentiment  \n",
              "136996  to show that if you give a filmmaker an unlimi...          1  \n",
              "90534   's rare for any movie to be as subtle and touc...          4  \n",
              "25220                                             Melanie          2  \n",
              "13996                                                Otar          2  \n",
              "38650                 complex enough to hold our interest          3  "
            ],
            "text/html": [
              "\n",
              "  <div id=\"df-11b0c37b-06e6-4e7f-b27d-f48216179900\" class=\"colab-df-container\">\n",
              "    <div>\n",
              "<style scoped>\n",
              "    .dataframe tbody tr th:only-of-type {\n",
              "        vertical-align: middle;\n",
              "    }\n",
              "\n",
              "    .dataframe tbody tr th {\n",
              "        vertical-align: top;\n",
              "    }\n",
              "\n",
              "    .dataframe thead th {\n",
              "        text-align: right;\n",
              "    }\n",
              "</style>\n",
              "<table border=\"1\" class=\"dataframe\">\n",
              "  <thead>\n",
              "    <tr style=\"text-align: right;\">\n",
              "      <th></th>\n",
              "      <th>PhraseId</th>\n",
              "      <th>SentenceId</th>\n",
              "      <th>Phrase</th>\n",
              "      <th>Sentiment</th>\n",
              "    </tr>\n",
              "  </thead>\n",
              "  <tbody>\n",
              "    <tr>\n",
              "      <th>136996</th>\n",
              "      <td>136997</td>\n",
              "      <td>7409</td>\n",
              "      <td>to show that if you give a filmmaker an unlimi...</td>\n",
              "      <td>1</td>\n",
              "    </tr>\n",
              "    <tr>\n",
              "      <th>90534</th>\n",
              "      <td>90535</td>\n",
              "      <td>4713</td>\n",
              "      <td>'s rare for any movie to be as subtle and touc...</td>\n",
              "      <td>4</td>\n",
              "    </tr>\n",
              "    <tr>\n",
              "      <th>25220</th>\n",
              "      <td>25221</td>\n",
              "      <td>1152</td>\n",
              "      <td>Melanie</td>\n",
              "      <td>2</td>\n",
              "    </tr>\n",
              "    <tr>\n",
              "      <th>13996</th>\n",
              "      <td>13997</td>\n",
              "      <td>603</td>\n",
              "      <td>Otar</td>\n",
              "      <td>2</td>\n",
              "    </tr>\n",
              "    <tr>\n",
              "      <th>38650</th>\n",
              "      <td>38651</td>\n",
              "      <td>1842</td>\n",
              "      <td>complex enough to hold our interest</td>\n",
              "      <td>3</td>\n",
              "    </tr>\n",
              "  </tbody>\n",
              "</table>\n",
              "</div>\n",
              "    <div class=\"colab-df-buttons\">\n",
              "\n",
              "  <div class=\"colab-df-container\">\n",
              "    <button class=\"colab-df-convert\" onclick=\"convertToInteractive('df-11b0c37b-06e6-4e7f-b27d-f48216179900')\"\n",
              "            title=\"Convert this dataframe to an interactive table.\"\n",
              "            style=\"display:none;\">\n",
              "\n",
              "  <svg xmlns=\"http://www.w3.org/2000/svg\" height=\"24px\" viewBox=\"0 -960 960 960\">\n",
              "    <path d=\"M120-120v-720h720v720H120Zm60-500h600v-160H180v160Zm220 220h160v-160H400v160Zm0 220h160v-160H400v160ZM180-400h160v-160H180v160Zm440 0h160v-160H620v160ZM180-180h160v-160H180v160Zm440 0h160v-160H620v160Z\"/>\n",
              "  </svg>\n",
              "    </button>\n",
              "\n",
              "  <style>\n",
              "    .colab-df-container {\n",
              "      display:flex;\n",
              "      gap: 12px;\n",
              "    }\n",
              "\n",
              "    .colab-df-convert {\n",
              "      background-color: #E8F0FE;\n",
              "      border: none;\n",
              "      border-radius: 50%;\n",
              "      cursor: pointer;\n",
              "      display: none;\n",
              "      fill: #1967D2;\n",
              "      height: 32px;\n",
              "      padding: 0 0 0 0;\n",
              "      width: 32px;\n",
              "    }\n",
              "\n",
              "    .colab-df-convert:hover {\n",
              "      background-color: #E2EBFA;\n",
              "      box-shadow: 0px 1px 2px rgba(60, 64, 67, 0.3), 0px 1px 3px 1px rgba(60, 64, 67, 0.15);\n",
              "      fill: #174EA6;\n",
              "    }\n",
              "\n",
              "    .colab-df-buttons div {\n",
              "      margin-bottom: 4px;\n",
              "    }\n",
              "\n",
              "    [theme=dark] .colab-df-convert {\n",
              "      background-color: #3B4455;\n",
              "      fill: #D2E3FC;\n",
              "    }\n",
              "\n",
              "    [theme=dark] .colab-df-convert:hover {\n",
              "      background-color: #434B5C;\n",
              "      box-shadow: 0px 1px 3px 1px rgba(0, 0, 0, 0.15);\n",
              "      filter: drop-shadow(0px 1px 2px rgba(0, 0, 0, 0.3));\n",
              "      fill: #FFFFFF;\n",
              "    }\n",
              "  </style>\n",
              "\n",
              "    <script>\n",
              "      const buttonEl =\n",
              "        document.querySelector('#df-11b0c37b-06e6-4e7f-b27d-f48216179900 button.colab-df-convert');\n",
              "      buttonEl.style.display =\n",
              "        google.colab.kernel.accessAllowed ? 'block' : 'none';\n",
              "\n",
              "      async function convertToInteractive(key) {\n",
              "        const element = document.querySelector('#df-11b0c37b-06e6-4e7f-b27d-f48216179900');\n",
              "        const dataTable =\n",
              "          await google.colab.kernel.invokeFunction('convertToInteractive',\n",
              "                                                    [key], {});\n",
              "        if (!dataTable) return;\n",
              "\n",
              "        const docLinkHtml = 'Like what you see? Visit the ' +\n",
              "          '<a target=\"_blank\" href=https://colab.research.google.com/notebooks/data_table.ipynb>data table notebook</a>'\n",
              "          + ' to learn more about interactive tables.';\n",
              "        element.innerHTML = '';\n",
              "        dataTable['output_type'] = 'display_data';\n",
              "        await google.colab.output.renderOutput(dataTable, element);\n",
              "        const docLink = document.createElement('div');\n",
              "        docLink.innerHTML = docLinkHtml;\n",
              "        element.appendChild(docLink);\n",
              "      }\n",
              "    </script>\n",
              "  </div>\n",
              "\n",
              "\n",
              "<div id=\"df-a22d7d28-d6af-4c26-9814-f81083393914\">\n",
              "  <button class=\"colab-df-quickchart\" onclick=\"quickchart('df-a22d7d28-d6af-4c26-9814-f81083393914')\"\n",
              "            title=\"Suggest charts\"\n",
              "            style=\"display:none;\">\n",
              "\n",
              "<svg xmlns=\"http://www.w3.org/2000/svg\" height=\"24px\"viewBox=\"0 0 24 24\"\n",
              "     width=\"24px\">\n",
              "    <g>\n",
              "        <path d=\"M19 3H5c-1.1 0-2 .9-2 2v14c0 1.1.9 2 2 2h14c1.1 0 2-.9 2-2V5c0-1.1-.9-2-2-2zM9 17H7v-7h2v7zm4 0h-2V7h2v10zm4 0h-2v-4h2v4z\"/>\n",
              "    </g>\n",
              "</svg>\n",
              "  </button>\n",
              "\n",
              "<style>\n",
              "  .colab-df-quickchart {\n",
              "      --bg-color: #E8F0FE;\n",
              "      --fill-color: #1967D2;\n",
              "      --hover-bg-color: #E2EBFA;\n",
              "      --hover-fill-color: #174EA6;\n",
              "      --disabled-fill-color: #AAA;\n",
              "      --disabled-bg-color: #DDD;\n",
              "  }\n",
              "\n",
              "  [theme=dark] .colab-df-quickchart {\n",
              "      --bg-color: #3B4455;\n",
              "      --fill-color: #D2E3FC;\n",
              "      --hover-bg-color: #434B5C;\n",
              "      --hover-fill-color: #FFFFFF;\n",
              "      --disabled-bg-color: #3B4455;\n",
              "      --disabled-fill-color: #666;\n",
              "  }\n",
              "\n",
              "  .colab-df-quickchart {\n",
              "    background-color: var(--bg-color);\n",
              "    border: none;\n",
              "    border-radius: 50%;\n",
              "    cursor: pointer;\n",
              "    display: none;\n",
              "    fill: var(--fill-color);\n",
              "    height: 32px;\n",
              "    padding: 0;\n",
              "    width: 32px;\n",
              "  }\n",
              "\n",
              "  .colab-df-quickchart:hover {\n",
              "    background-color: var(--hover-bg-color);\n",
              "    box-shadow: 0 1px 2px rgba(60, 64, 67, 0.3), 0 1px 3px 1px rgba(60, 64, 67, 0.15);\n",
              "    fill: var(--button-hover-fill-color);\n",
              "  }\n",
              "\n",
              "  .colab-df-quickchart-complete:disabled,\n",
              "  .colab-df-quickchart-complete:disabled:hover {\n",
              "    background-color: var(--disabled-bg-color);\n",
              "    fill: var(--disabled-fill-color);\n",
              "    box-shadow: none;\n",
              "  }\n",
              "\n",
              "  .colab-df-spinner {\n",
              "    border: 2px solid var(--fill-color);\n",
              "    border-color: transparent;\n",
              "    border-bottom-color: var(--fill-color);\n",
              "    animation:\n",
              "      spin 1s steps(1) infinite;\n",
              "  }\n",
              "\n",
              "  @keyframes spin {\n",
              "    0% {\n",
              "      border-color: transparent;\n",
              "      border-bottom-color: var(--fill-color);\n",
              "      border-left-color: var(--fill-color);\n",
              "    }\n",
              "    20% {\n",
              "      border-color: transparent;\n",
              "      border-left-color: var(--fill-color);\n",
              "      border-top-color: var(--fill-color);\n",
              "    }\n",
              "    30% {\n",
              "      border-color: transparent;\n",
              "      border-left-color: var(--fill-color);\n",
              "      border-top-color: var(--fill-color);\n",
              "      border-right-color: var(--fill-color);\n",
              "    }\n",
              "    40% {\n",
              "      border-color: transparent;\n",
              "      border-right-color: var(--fill-color);\n",
              "      border-top-color: var(--fill-color);\n",
              "    }\n",
              "    60% {\n",
              "      border-color: transparent;\n",
              "      border-right-color: var(--fill-color);\n",
              "    }\n",
              "    80% {\n",
              "      border-color: transparent;\n",
              "      border-right-color: var(--fill-color);\n",
              "      border-bottom-color: var(--fill-color);\n",
              "    }\n",
              "    90% {\n",
              "      border-color: transparent;\n",
              "      border-bottom-color: var(--fill-color);\n",
              "    }\n",
              "  }\n",
              "</style>\n",
              "\n",
              "  <script>\n",
              "    async function quickchart(key) {\n",
              "      const quickchartButtonEl =\n",
              "        document.querySelector('#' + key + ' button');\n",
              "      quickchartButtonEl.disabled = true;  // To prevent multiple clicks.\n",
              "      quickchartButtonEl.classList.add('colab-df-spinner');\n",
              "      try {\n",
              "        const charts = await google.colab.kernel.invokeFunction(\n",
              "            'suggestCharts', [key], {});\n",
              "      } catch (error) {\n",
              "        console.error('Error during call to suggestCharts:', error);\n",
              "      }\n",
              "      quickchartButtonEl.classList.remove('colab-df-spinner');\n",
              "      quickchartButtonEl.classList.add('colab-df-quickchart-complete');\n",
              "    }\n",
              "    (() => {\n",
              "      let quickchartButtonEl =\n",
              "        document.querySelector('#df-a22d7d28-d6af-4c26-9814-f81083393914 button');\n",
              "      quickchartButtonEl.style.display =\n",
              "        google.colab.kernel.accessAllowed ? 'block' : 'none';\n",
              "    })();\n",
              "  </script>\n",
              "</div>\n",
              "\n",
              "    </div>\n",
              "  </div>\n"
            ],
            "application/vnd.google.colaboratory.intrinsic+json": {
              "type": "dataframe",
              "summary": "{\n  \"name\": \"df\",\n  \"rows\": 5,\n  \"fields\": [\n    {\n      \"column\": \"PhraseId\",\n      \"properties\": {\n        \"dtype\": \"number\",\n        \"std\": 51567,\n        \"min\": 13997,\n        \"max\": 136997,\n        \"num_unique_values\": 5,\n        \"samples\": [\n          90535,\n          38651,\n          25221\n        ],\n        \"semantic_type\": \"\",\n        \"description\": \"\"\n      }\n    },\n    {\n      \"column\": \"SentenceId\",\n      \"properties\": {\n        \"dtype\": \"number\",\n        \"std\": 2862,\n        \"min\": 603,\n        \"max\": 7409,\n        \"num_unique_values\": 5,\n        \"samples\": [\n          4713,\n          1842,\n          1152\n        ],\n        \"semantic_type\": \"\",\n        \"description\": \"\"\n      }\n    },\n    {\n      \"column\": \"Phrase\",\n      \"properties\": {\n        \"dtype\": \"string\",\n        \"num_unique_values\": 5,\n        \"samples\": [\n          \"'s rare for any movie to be as subtle and touching as The Son 's Room .\",\n          \"complex enough to hold our interest\",\n          \"Melanie\"\n        ],\n        \"semantic_type\": \"\",\n        \"description\": \"\"\n      }\n    },\n    {\n      \"column\": \"Sentiment\",\n      \"properties\": {\n        \"dtype\": \"number\",\n        \"std\": 1,\n        \"min\": 1,\n        \"max\": 4,\n        \"num_unique_values\": 4,\n        \"samples\": [\n          4,\n          3,\n          1\n        ],\n        \"semantic_type\": \"\",\n        \"description\": \"\"\n      }\n    }\n  ]\n}"
            }
          },
          "metadata": {},
          "execution_count": 2
        }
      ]
    },
    {
      "cell_type": "code",
      "source": [
        "df_train = df.sample(105000)"
      ],
      "metadata": {
        "id": "Qg9LmkorSW7X"
      },
      "execution_count": null,
      "outputs": []
    },
    {
      "cell_type": "code",
      "source": [
        "#Creating a new column using Sentiment column\n",
        "\n",
        "mapping = {\n",
        "    0:'negative',\n",
        "    1:'somewhat negative',\n",
        "    2:'neutral',\n",
        "    3:'somewhat positive',\n",
        "    4:'positive'\n",
        "}\n",
        "\n",
        "df_train['Sentiment Phrase'] = df_train['Sentiment'].map(mapping)"
      ],
      "metadata": {
        "id": "AEV6Z5xiD9aK"
      },
      "execution_count": null,
      "outputs": []
    },
    {
      "cell_type": "code",
      "source": [
        "df_train.sample(10)"
      ],
      "metadata": {
        "colab": {
          "base_uri": "https://localhost:8080/",
          "height": 363
        },
        "id": "60eyvBhyErGN",
        "outputId": "30fed51a-2ba8-4894-db04-80298a3e6aa1"
      },
      "execution_count": null,
      "outputs": [
        {
          "output_type": "execute_result",
          "data": {
            "text/plain": [
              "        PhraseId  SentenceId  \\\n",
              "137277    137278        7427   \n",
              "104891    104892        5539   \n",
              "69867      69868        3552   \n",
              "141355    141356        7667   \n",
              "41126      41127        1971   \n",
              "93699      93700        4886   \n",
              "154705    154706        8461   \n",
              "24757      24758        1128   \n",
              "52027      52028        2567   \n",
              "96456      96457        5039   \n",
              "\n",
              "                                                   Phrase  Sentiment  \\\n",
              "137277                                 It 's not too racy          2   \n",
              "104891  Tedious Norwegian offering which somehow snagg...          1   \n",
              "69867                                     a ship as leaky          1   \n",
              "141355                         with a large human tragedy          2   \n",
              "41126   because this movie makes his own look much bet...          1   \n",
              "93699   a festival film that would have been better of...          1   \n",
              "154705  's consistently surprising , easy to watch -- ...          3   \n",
              "24757                                     slyly exquisite          3   \n",
              "52027   A respectable but uninspired thriller that 's ...          2   \n",
              "96456                                        audacity and          1   \n",
              "\n",
              "         Sentiment Phrase  \n",
              "137277            neutral  \n",
              "104891  somewhat negative  \n",
              "69867   somewhat negative  \n",
              "141355            neutral  \n",
              "41126   somewhat negative  \n",
              "93699   somewhat negative  \n",
              "154705  somewhat positive  \n",
              "24757   somewhat positive  \n",
              "52027             neutral  \n",
              "96456   somewhat negative  "
            ],
            "text/html": [
              "\n",
              "  <div id=\"df-af6f1343-c82f-4b8a-a11f-0c4135c7f1e4\" class=\"colab-df-container\">\n",
              "    <div>\n",
              "<style scoped>\n",
              "    .dataframe tbody tr th:only-of-type {\n",
              "        vertical-align: middle;\n",
              "    }\n",
              "\n",
              "    .dataframe tbody tr th {\n",
              "        vertical-align: top;\n",
              "    }\n",
              "\n",
              "    .dataframe thead th {\n",
              "        text-align: right;\n",
              "    }\n",
              "</style>\n",
              "<table border=\"1\" class=\"dataframe\">\n",
              "  <thead>\n",
              "    <tr style=\"text-align: right;\">\n",
              "      <th></th>\n",
              "      <th>PhraseId</th>\n",
              "      <th>SentenceId</th>\n",
              "      <th>Phrase</th>\n",
              "      <th>Sentiment</th>\n",
              "      <th>Sentiment Phrase</th>\n",
              "    </tr>\n",
              "  </thead>\n",
              "  <tbody>\n",
              "    <tr>\n",
              "      <th>137277</th>\n",
              "      <td>137278</td>\n",
              "      <td>7427</td>\n",
              "      <td>It 's not too racy</td>\n",
              "      <td>2</td>\n",
              "      <td>neutral</td>\n",
              "    </tr>\n",
              "    <tr>\n",
              "      <th>104891</th>\n",
              "      <td>104892</td>\n",
              "      <td>5539</td>\n",
              "      <td>Tedious Norwegian offering which somehow snagg...</td>\n",
              "      <td>1</td>\n",
              "      <td>somewhat negative</td>\n",
              "    </tr>\n",
              "    <tr>\n",
              "      <th>69867</th>\n",
              "      <td>69868</td>\n",
              "      <td>3552</td>\n",
              "      <td>a ship as leaky</td>\n",
              "      <td>1</td>\n",
              "      <td>somewhat negative</td>\n",
              "    </tr>\n",
              "    <tr>\n",
              "      <th>141355</th>\n",
              "      <td>141356</td>\n",
              "      <td>7667</td>\n",
              "      <td>with a large human tragedy</td>\n",
              "      <td>2</td>\n",
              "      <td>neutral</td>\n",
              "    </tr>\n",
              "    <tr>\n",
              "      <th>41126</th>\n",
              "      <td>41127</td>\n",
              "      <td>1971</td>\n",
              "      <td>because this movie makes his own look much bet...</td>\n",
              "      <td>1</td>\n",
              "      <td>somewhat negative</td>\n",
              "    </tr>\n",
              "    <tr>\n",
              "      <th>93699</th>\n",
              "      <td>93700</td>\n",
              "      <td>4886</td>\n",
              "      <td>a festival film that would have been better of...</td>\n",
              "      <td>1</td>\n",
              "      <td>somewhat negative</td>\n",
              "    </tr>\n",
              "    <tr>\n",
              "      <th>154705</th>\n",
              "      <td>154706</td>\n",
              "      <td>8461</td>\n",
              "      <td>'s consistently surprising , easy to watch -- ...</td>\n",
              "      <td>3</td>\n",
              "      <td>somewhat positive</td>\n",
              "    </tr>\n",
              "    <tr>\n",
              "      <th>24757</th>\n",
              "      <td>24758</td>\n",
              "      <td>1128</td>\n",
              "      <td>slyly exquisite</td>\n",
              "      <td>3</td>\n",
              "      <td>somewhat positive</td>\n",
              "    </tr>\n",
              "    <tr>\n",
              "      <th>52027</th>\n",
              "      <td>52028</td>\n",
              "      <td>2567</td>\n",
              "      <td>A respectable but uninspired thriller that 's ...</td>\n",
              "      <td>2</td>\n",
              "      <td>neutral</td>\n",
              "    </tr>\n",
              "    <tr>\n",
              "      <th>96456</th>\n",
              "      <td>96457</td>\n",
              "      <td>5039</td>\n",
              "      <td>audacity and</td>\n",
              "      <td>1</td>\n",
              "      <td>somewhat negative</td>\n",
              "    </tr>\n",
              "  </tbody>\n",
              "</table>\n",
              "</div>\n",
              "    <div class=\"colab-df-buttons\">\n",
              "\n",
              "  <div class=\"colab-df-container\">\n",
              "    <button class=\"colab-df-convert\" onclick=\"convertToInteractive('df-af6f1343-c82f-4b8a-a11f-0c4135c7f1e4')\"\n",
              "            title=\"Convert this dataframe to an interactive table.\"\n",
              "            style=\"display:none;\">\n",
              "\n",
              "  <svg xmlns=\"http://www.w3.org/2000/svg\" height=\"24px\" viewBox=\"0 -960 960 960\">\n",
              "    <path d=\"M120-120v-720h720v720H120Zm60-500h600v-160H180v160Zm220 220h160v-160H400v160Zm0 220h160v-160H400v160ZM180-400h160v-160H180v160Zm440 0h160v-160H620v160ZM180-180h160v-160H180v160Zm440 0h160v-160H620v160Z\"/>\n",
              "  </svg>\n",
              "    </button>\n",
              "\n",
              "  <style>\n",
              "    .colab-df-container {\n",
              "      display:flex;\n",
              "      gap: 12px;\n",
              "    }\n",
              "\n",
              "    .colab-df-convert {\n",
              "      background-color: #E8F0FE;\n",
              "      border: none;\n",
              "      border-radius: 50%;\n",
              "      cursor: pointer;\n",
              "      display: none;\n",
              "      fill: #1967D2;\n",
              "      height: 32px;\n",
              "      padding: 0 0 0 0;\n",
              "      width: 32px;\n",
              "    }\n",
              "\n",
              "    .colab-df-convert:hover {\n",
              "      background-color: #E2EBFA;\n",
              "      box-shadow: 0px 1px 2px rgba(60, 64, 67, 0.3), 0px 1px 3px 1px rgba(60, 64, 67, 0.15);\n",
              "      fill: #174EA6;\n",
              "    }\n",
              "\n",
              "    .colab-df-buttons div {\n",
              "      margin-bottom: 4px;\n",
              "    }\n",
              "\n",
              "    [theme=dark] .colab-df-convert {\n",
              "      background-color: #3B4455;\n",
              "      fill: #D2E3FC;\n",
              "    }\n",
              "\n",
              "    [theme=dark] .colab-df-convert:hover {\n",
              "      background-color: #434B5C;\n",
              "      box-shadow: 0px 1px 3px 1px rgba(0, 0, 0, 0.15);\n",
              "      filter: drop-shadow(0px 1px 2px rgba(0, 0, 0, 0.3));\n",
              "      fill: #FFFFFF;\n",
              "    }\n",
              "  </style>\n",
              "\n",
              "    <script>\n",
              "      const buttonEl =\n",
              "        document.querySelector('#df-af6f1343-c82f-4b8a-a11f-0c4135c7f1e4 button.colab-df-convert');\n",
              "      buttonEl.style.display =\n",
              "        google.colab.kernel.accessAllowed ? 'block' : 'none';\n",
              "\n",
              "      async function convertToInteractive(key) {\n",
              "        const element = document.querySelector('#df-af6f1343-c82f-4b8a-a11f-0c4135c7f1e4');\n",
              "        const dataTable =\n",
              "          await google.colab.kernel.invokeFunction('convertToInteractive',\n",
              "                                                    [key], {});\n",
              "        if (!dataTable) return;\n",
              "\n",
              "        const docLinkHtml = 'Like what you see? Visit the ' +\n",
              "          '<a target=\"_blank\" href=https://colab.research.google.com/notebooks/data_table.ipynb>data table notebook</a>'\n",
              "          + ' to learn more about interactive tables.';\n",
              "        element.innerHTML = '';\n",
              "        dataTable['output_type'] = 'display_data';\n",
              "        await google.colab.output.renderOutput(dataTable, element);\n",
              "        const docLink = document.createElement('div');\n",
              "        docLink.innerHTML = docLinkHtml;\n",
              "        element.appendChild(docLink);\n",
              "      }\n",
              "    </script>\n",
              "  </div>\n",
              "\n",
              "\n",
              "<div id=\"df-4f8b35d3-4236-4a6d-b5fd-346c4fa93ab8\">\n",
              "  <button class=\"colab-df-quickchart\" onclick=\"quickchart('df-4f8b35d3-4236-4a6d-b5fd-346c4fa93ab8')\"\n",
              "            title=\"Suggest charts\"\n",
              "            style=\"display:none;\">\n",
              "\n",
              "<svg xmlns=\"http://www.w3.org/2000/svg\" height=\"24px\"viewBox=\"0 0 24 24\"\n",
              "     width=\"24px\">\n",
              "    <g>\n",
              "        <path d=\"M19 3H5c-1.1 0-2 .9-2 2v14c0 1.1.9 2 2 2h14c1.1 0 2-.9 2-2V5c0-1.1-.9-2-2-2zM9 17H7v-7h2v7zm4 0h-2V7h2v10zm4 0h-2v-4h2v4z\"/>\n",
              "    </g>\n",
              "</svg>\n",
              "  </button>\n",
              "\n",
              "<style>\n",
              "  .colab-df-quickchart {\n",
              "      --bg-color: #E8F0FE;\n",
              "      --fill-color: #1967D2;\n",
              "      --hover-bg-color: #E2EBFA;\n",
              "      --hover-fill-color: #174EA6;\n",
              "      --disabled-fill-color: #AAA;\n",
              "      --disabled-bg-color: #DDD;\n",
              "  }\n",
              "\n",
              "  [theme=dark] .colab-df-quickchart {\n",
              "      --bg-color: #3B4455;\n",
              "      --fill-color: #D2E3FC;\n",
              "      --hover-bg-color: #434B5C;\n",
              "      --hover-fill-color: #FFFFFF;\n",
              "      --disabled-bg-color: #3B4455;\n",
              "      --disabled-fill-color: #666;\n",
              "  }\n",
              "\n",
              "  .colab-df-quickchart {\n",
              "    background-color: var(--bg-color);\n",
              "    border: none;\n",
              "    border-radius: 50%;\n",
              "    cursor: pointer;\n",
              "    display: none;\n",
              "    fill: var(--fill-color);\n",
              "    height: 32px;\n",
              "    padding: 0;\n",
              "    width: 32px;\n",
              "  }\n",
              "\n",
              "  .colab-df-quickchart:hover {\n",
              "    background-color: var(--hover-bg-color);\n",
              "    box-shadow: 0 1px 2px rgba(60, 64, 67, 0.3), 0 1px 3px 1px rgba(60, 64, 67, 0.15);\n",
              "    fill: var(--button-hover-fill-color);\n",
              "  }\n",
              "\n",
              "  .colab-df-quickchart-complete:disabled,\n",
              "  .colab-df-quickchart-complete:disabled:hover {\n",
              "    background-color: var(--disabled-bg-color);\n",
              "    fill: var(--disabled-fill-color);\n",
              "    box-shadow: none;\n",
              "  }\n",
              "\n",
              "  .colab-df-spinner {\n",
              "    border: 2px solid var(--fill-color);\n",
              "    border-color: transparent;\n",
              "    border-bottom-color: var(--fill-color);\n",
              "    animation:\n",
              "      spin 1s steps(1) infinite;\n",
              "  }\n",
              "\n",
              "  @keyframes spin {\n",
              "    0% {\n",
              "      border-color: transparent;\n",
              "      border-bottom-color: var(--fill-color);\n",
              "      border-left-color: var(--fill-color);\n",
              "    }\n",
              "    20% {\n",
              "      border-color: transparent;\n",
              "      border-left-color: var(--fill-color);\n",
              "      border-top-color: var(--fill-color);\n",
              "    }\n",
              "    30% {\n",
              "      border-color: transparent;\n",
              "      border-left-color: var(--fill-color);\n",
              "      border-top-color: var(--fill-color);\n",
              "      border-right-color: var(--fill-color);\n",
              "    }\n",
              "    40% {\n",
              "      border-color: transparent;\n",
              "      border-right-color: var(--fill-color);\n",
              "      border-top-color: var(--fill-color);\n",
              "    }\n",
              "    60% {\n",
              "      border-color: transparent;\n",
              "      border-right-color: var(--fill-color);\n",
              "    }\n",
              "    80% {\n",
              "      border-color: transparent;\n",
              "      border-right-color: var(--fill-color);\n",
              "      border-bottom-color: var(--fill-color);\n",
              "    }\n",
              "    90% {\n",
              "      border-color: transparent;\n",
              "      border-bottom-color: var(--fill-color);\n",
              "    }\n",
              "  }\n",
              "</style>\n",
              "\n",
              "  <script>\n",
              "    async function quickchart(key) {\n",
              "      const quickchartButtonEl =\n",
              "        document.querySelector('#' + key + ' button');\n",
              "      quickchartButtonEl.disabled = true;  // To prevent multiple clicks.\n",
              "      quickchartButtonEl.classList.add('colab-df-spinner');\n",
              "      try {\n",
              "        const charts = await google.colab.kernel.invokeFunction(\n",
              "            'suggestCharts', [key], {});\n",
              "      } catch (error) {\n",
              "        console.error('Error during call to suggestCharts:', error);\n",
              "      }\n",
              "      quickchartButtonEl.classList.remove('colab-df-spinner');\n",
              "      quickchartButtonEl.classList.add('colab-df-quickchart-complete');\n",
              "    }\n",
              "    (() => {\n",
              "      let quickchartButtonEl =\n",
              "        document.querySelector('#df-4f8b35d3-4236-4a6d-b5fd-346c4fa93ab8 button');\n",
              "      quickchartButtonEl.style.display =\n",
              "        google.colab.kernel.accessAllowed ? 'block' : 'none';\n",
              "    })();\n",
              "  </script>\n",
              "</div>\n",
              "\n",
              "    </div>\n",
              "  </div>\n"
            ],
            "application/vnd.google.colaboratory.intrinsic+json": {
              "type": "dataframe",
              "summary": "{\n  \"name\": \"df_train\",\n  \"rows\": 10,\n  \"fields\": [\n    {\n      \"column\": \"PhraseId\",\n      \"properties\": {\n        \"dtype\": \"number\",\n        \"std\": 44475,\n        \"min\": 24758,\n        \"max\": 154706,\n        \"num_unique_values\": 10,\n        \"samples\": [\n          52028,\n          104892,\n          93700\n        ],\n        \"semantic_type\": \"\",\n        \"description\": \"\"\n      }\n    },\n    {\n      \"column\": \"SentenceId\",\n      \"properties\": {\n        \"dtype\": \"number\",\n        \"std\": 2520,\n        \"min\": 1128,\n        \"max\": 8461,\n        \"num_unique_values\": 10,\n        \"samples\": [\n          2567,\n          5539,\n          4886\n        ],\n        \"semantic_type\": \"\",\n        \"description\": \"\"\n      }\n    },\n    {\n      \"column\": \"Phrase\",\n      \"properties\": {\n        \"dtype\": \"string\",\n        \"num_unique_values\": 10,\n        \"samples\": [\n          \"A respectable but uninspired thriller that 's intelligent and considered in its details , but ultimately weak in its impact\",\n          \"Tedious Norwegian offering which somehow snagged an Oscar nomination .\",\n          \"a festival film that would have been better off staying on the festival circuit\"\n        ],\n        \"semantic_type\": \"\",\n        \"description\": \"\"\n      }\n    },\n    {\n      \"column\": \"Sentiment\",\n      \"properties\": {\n        \"dtype\": \"number\",\n        \"std\": 0,\n        \"min\": 1,\n        \"max\": 3,\n        \"num_unique_values\": 3,\n        \"samples\": [\n          2,\n          1,\n          3\n        ],\n        \"semantic_type\": \"\",\n        \"description\": \"\"\n      }\n    },\n    {\n      \"column\": \"Sentiment Phrase\",\n      \"properties\": {\n        \"dtype\": \"category\",\n        \"num_unique_values\": 3,\n        \"samples\": [\n          \"neutral\",\n          \"somewhat negative\",\n          \"somewhat positive\"\n        ],\n        \"semantic_type\": \"\",\n        \"description\": \"\"\n      }\n    }\n  ]\n}"
            }
          },
          "metadata": {},
          "execution_count": 5
        }
      ]
    },
    {
      "cell_type": "code",
      "source": [
        "sent_phrase_count = df_train['Sentiment'].value_counts"
      ],
      "metadata": {
        "id": "BT_vW2DAEzE5"
      },
      "execution_count": null,
      "outputs": []
    },
    {
      "cell_type": "code",
      "source": [
        "df_train.isnull().sum()"
      ],
      "metadata": {
        "colab": {
          "base_uri": "https://localhost:8080/"
        },
        "id": "j5kT3ypaHLdq",
        "outputId": "4c1dc3b7-97b5-4627-eb05-9d70016cd960"
      },
      "execution_count": null,
      "outputs": [
        {
          "output_type": "execute_result",
          "data": {
            "text/plain": [
              "PhraseId            0\n",
              "SentenceId          0\n",
              "Phrase              0\n",
              "Sentiment           0\n",
              "Sentiment Phrase    0\n",
              "dtype: int64"
            ]
          },
          "metadata": {},
          "execution_count": 7
        }
      ]
    },
    {
      "cell_type": "code",
      "source": [
        "df_train.shape"
      ],
      "metadata": {
        "colab": {
          "base_uri": "https://localhost:8080/"
        },
        "id": "wg22AwKKHadc",
        "outputId": "f97f950d-cd26-49db-bb0d-56a10bb4bc24"
      },
      "execution_count": null,
      "outputs": [
        {
          "output_type": "execute_result",
          "data": {
            "text/plain": [
              "(105000, 5)"
            ]
          },
          "metadata": {},
          "execution_count": 8
        }
      ]
    },
    {
      "cell_type": "code",
      "source": [
        "df_train.dropna(inplace=True)"
      ],
      "metadata": {
        "id": "CWmKSaVVHXP0"
      },
      "execution_count": null,
      "outputs": []
    },
    {
      "cell_type": "code",
      "source": [
        "df_train.shape"
      ],
      "metadata": {
        "colab": {
          "base_uri": "https://localhost:8080/"
        },
        "id": "-fgg-AjPHgGS",
        "outputId": "0d72976a-7138-48b4-fc4b-b4833098d1a5"
      },
      "execution_count": null,
      "outputs": [
        {
          "output_type": "execute_result",
          "data": {
            "text/plain": [
              "(105000, 5)"
            ]
          },
          "metadata": {},
          "execution_count": 10
        }
      ]
    },
    {
      "cell_type": "code",
      "source": [
        "import matplotlib.pyplot as plt\n",
        "df_train['Sentiment'].value_counts().sort_index().plot(kind = 'bar',color='red')\n",
        "plt.xlabel('Sentiment')\n",
        "plt.ylabel('Count')\n",
        "plt.show()"
      ],
      "metadata": {
        "colab": {
          "base_uri": "https://localhost:8080/",
          "height": 444
        },
        "id": "TwIeO88cFCsK",
        "outputId": "579c9fec-e812-438c-8d72-30a7f4784fea"
      },
      "execution_count": null,
      "outputs": [
        {
          "output_type": "display_data",
          "data": {
            "text/plain": [
              "<Figure size 640x480 with 1 Axes>"
            ],
            "image/png": "[encoded data removed]"
          },
          "metadata": {}
        }
      ]
    },
    {
      "cell_type": "markdown",
      "source": [
        "Text Preprocessing"
      ],
      "metadata": {
        "id": "OX7c0I7YIflD"
      }
    },
    {
      "cell_type": "code",
      "source": [
        "import nltk, re\n",
        "from nltk.corpus import stopwords\n",
        "from nltk.tokenize import word_tokenize\n",
        "from nltk.stem.porter import PorterStemmer\n",
        "nltk.download('stopwords')\n",
        "nltk.download('punkt')\n",
        "\n",
        "def text_preprocessing(text_from_df):\n",
        "  #Lowercasing\n",
        "  text = text_from_df.lower()\n",
        "\n",
        "  #remove punctuations\n",
        "  text = re.sub(r'[^\\w\\s]', '', text)\n",
        "\n",
        "  #remove stopwords\n",
        "  new_text = []\n",
        "  for word in text.split():\n",
        "    if word in stopwords.words('english'):\n",
        "      new_text.append('')\n",
        "    else:\n",
        "      new_text.append(word)\n",
        "  x = new_text[:]\n",
        "  new_text.clear\n",
        "  text = ' '.join(x)\n",
        "\n",
        "  #Tokenize\n",
        "  text = word_tokenize(text)\n",
        "\n",
        "  #Stemming\n",
        "  new_list = []\n",
        "  ps = PorterStemmer()\n",
        "  for word in text:\n",
        "    new_list.append(ps.stem(word))\n",
        "  text = \" \".join(new_list)\n",
        "\n",
        "  return text"
      ],
      "metadata": {
        "colab": {
          "base_uri": "https://localhost:8080/"
        },
        "id": "FkSuCSoDHq6_",
        "outputId": "bc29d6c2-6719-4065-d753-52a47d057f8f"
      },
      "execution_count": null,
      "outputs": [
        {
          "output_type": "stream",
          "name": "stderr",
          "text": [
            "[nltk_data] Downloading package stopwords to /root/nltk_data...\n",
            "[nltk_data]   Package stopwords is already up-to-date!\n",
            "[nltk_data] Downloading package punkt to /root/nltk_data...\n",
            "[nltk_data]   Package punkt is already up-to-date!\n"
          ]
        }
      ]
    },
    {
      "cell_type": "code",
      "source": [
        "text_preprocessing(\"Hi! I am ashish. How are you doing sir? Would you like to go running with me?\")"
      ],
      "metadata": {
        "colab": {
          "base_uri": "https://localhost:8080/",
          "height": 35
        },
        "id": "Ic56S-AuKAdT",
        "outputId": "580267d6-644f-4457-9b1f-4fc88f0ca3f5"
      },
      "execution_count": null,
      "outputs": [
        {
          "output_type": "execute_result",
          "data": {
            "text/plain": [
              "'hi ashish sir would like go run'"
            ],
            "application/vnd.google.colaboratory.intrinsic+json": {
              "type": "string"
            }
          },
          "metadata": {},
          "execution_count": 13
        }
      ]
    },
    {
      "cell_type": "code",
      "source": [
        "df_train['preprocessed_text'] = df_train['Phrase'].apply(text_preprocessing)\n",
        "df_train.sample(10)"
      ],
      "metadata": {
        "colab": {
          "base_uri": "https://localhost:8080/",
          "height": 484
        },
        "id": "6U0q6OKKKJNR",
        "outputId": "0842f11b-95c1-4519-dca3-0ee775e6fc7b"
      },
      "execution_count": null,
      "outputs": [
        {
          "output_type": "execute_result",
          "data": {
            "text/plain": [
              "        PhraseId  SentenceId  \\\n",
              "116417    116418        6208   \n",
              "38660      38661        1843   \n",
              "109657    109658        5810   \n",
              "39459      39460        1884   \n",
              "143251    143252        7776   \n",
              "51800      51801        2555   \n",
              "111737    111738        5930   \n",
              "29785      29786        1381   \n",
              "58778      58779        2964   \n",
              "117869    117870        6295   \n",
              "\n",
              "                                                   Phrase  Sentiment  \\\n",
              "116417  funnier version of the old Police Academy flic...          3   \n",
              "38660   as a nifty plot line in Steven Soderbergh 's T...          1   \n",
              "109657                               's almost impossible          2   \n",
              "39459             's nowhere near as exciting as either .          1   \n",
              "143251              a stunning fusion of music and images          4   \n",
              "51800   see why people thought I was too hard on `` Th...          1   \n",
              "111737                                     exotic locales          2   \n",
              "29785                                              plumbs          2   \n",
              "58778                                    The fluid motion          2   \n",
              "117869  Not the best Herzog perhaps , but unmistakably...          2   \n",
              "\n",
              "         Sentiment Phrase                                  preprocessed_text  \n",
              "116417  somewhat positive            funnier version old polic academi flick  \n",
              "38660   somewhat negative  nifti plot line steven soderbergh traffic fail...  \n",
              "109657            neutral                                      almost imposs  \n",
              "39459   somewhat negative                           nowher near excit either  \n",
              "143251           positive                             stun fusion music imag  \n",
              "51800   somewhat negative            see peopl thought hard mothman propheci  \n",
              "111737            neutral                                         exot local  \n",
              "29785             neutral                                              plumb  \n",
              "58778             neutral                                       fluid motion  \n",
              "117869            neutral                 best herzog perhap unmistak herzog  "
            ],
            "text/html": [
              "\n",
              "  <div id=\"df-414dd894-34be-407d-87e7-171e69b84bb1\" class=\"colab-df-container\">\n",
              "    <div>\n",
              "<style scoped>\n",
              "    .dataframe tbody tr th:only-of-type {\n",
              "        vertical-align: middle;\n",
              "    }\n",
              "\n",
              "    .dataframe tbody tr th {\n",
              "        vertical-align: top;\n",
              "    }\n",
              "\n",
              "    .dataframe thead th {\n",
              "        text-align: right;\n",
              "    }\n",
              "</style>\n",
              "<table border=\"1\" class=\"dataframe\">\n",
              "  <thead>\n",
              "    <tr style=\"text-align: right;\">\n",
              "      <th></th>\n",
              "      <th>PhraseId</th>\n",
              "      <th>SentenceId</th>\n",
              "      <th>Phrase</th>\n",
              "      <th>Sentiment</th>\n",
              "      <th>Sentiment Phrase</th>\n",
              "      <th>preprocessed_text</th>\n",
              "    </tr>\n",
              "  </thead>\n",
              "  <tbody>\n",
              "    <tr>\n",
              "      <th>116417</th>\n",
              "      <td>116418</td>\n",
              "      <td>6208</td>\n",
              "      <td>funnier version of the old Police Academy flic...</td>\n",
              "      <td>3</td>\n",
              "      <td>somewhat positive</td>\n",
              "      <td>funnier version old polic academi flick</td>\n",
              "    </tr>\n",
              "    <tr>\n",
              "      <th>38660</th>\n",
              "      <td>38661</td>\n",
              "      <td>1843</td>\n",
              "      <td>as a nifty plot line in Steven Soderbergh 's T...</td>\n",
              "      <td>1</td>\n",
              "      <td>somewhat negative</td>\n",
              "      <td>nifti plot line steven soderbergh traffic fail...</td>\n",
              "    </tr>\n",
              "    <tr>\n",
              "      <th>109657</th>\n",
              "      <td>109658</td>\n",
              "      <td>5810</td>\n",
              "      <td>'s almost impossible</td>\n",
              "      <td>2</td>\n",
              "      <td>neutral</td>\n",
              "      <td>almost imposs</td>\n",
              "    </tr>\n",
              "    <tr>\n",
              "      <th>39459</th>\n",
              "      <td>39460</td>\n",
              "      <td>1884</td>\n",
              "      <td>'s nowhere near as exciting as either .</td>\n",
              "      <td>1</td>\n",
              "      <td>somewhat negative</td>\n",
              "      <td>nowher near excit either</td>\n",
              "    </tr>\n",
              "    <tr>\n",
              "      <th>143251</th>\n",
              "      <td>143252</td>\n",
              "      <td>7776</td>\n",
              "      <td>a stunning fusion of music and images</td>\n",
              "      <td>4</td>\n",
              "      <td>positive</td>\n",
              "      <td>stun fusion music imag</td>\n",
              "    </tr>\n",
              "    <tr>\n",
              "      <th>51800</th>\n",
              "      <td>51801</td>\n",
              "      <td>2555</td>\n",
              "      <td>see why people thought I was too hard on `` Th...</td>\n",
              "      <td>1</td>\n",
              "      <td>somewhat negative</td>\n",
              "      <td>see peopl thought hard mothman propheci</td>\n",
              "    </tr>\n",
              "    <tr>\n",
              "      <th>111737</th>\n",
              "      <td>111738</td>\n",
              "      <td>5930</td>\n",
              "      <td>exotic locales</td>\n",
              "      <td>2</td>\n",
              "      <td>neutral</td>\n",
              "      <td>exot local</td>\n",
              "    </tr>\n",
              "    <tr>\n",
              "      <th>29785</th>\n",
              "      <td>29786</td>\n",
              "      <td>1381</td>\n",
              "      <td>plumbs</td>\n",
              "      <td>2</td>\n",
              "      <td>neutral</td>\n",
              "      <td>plumb</td>\n",
              "    </tr>\n",
              "    <tr>\n",
              "      <th>58778</th>\n",
              "      <td>58779</td>\n",
              "      <td>2964</td>\n",
              "      <td>The fluid motion</td>\n",
              "      <td>2</td>\n",
              "      <td>neutral</td>\n",
              "      <td>fluid motion</td>\n",
              "    </tr>\n",
              "    <tr>\n",
              "      <th>117869</th>\n",
              "      <td>117870</td>\n",
              "      <td>6295</td>\n",
              "      <td>Not the best Herzog perhaps , but unmistakably...</td>\n",
              "      <td>2</td>\n",
              "      <td>neutral</td>\n",
              "      <td>best herzog perhap unmistak herzog</td>\n",
              "    </tr>\n",
              "  </tbody>\n",
              "</table>\n",
              "</div>\n",
              "    <div class=\"colab-df-buttons\">\n",
              "\n",
              "  <div class=\"colab-df-container\">\n",
              "    <button class=\"colab-df-convert\" onclick=\"convertToInteractive('df-414dd894-34be-407d-87e7-171e69b84bb1')\"\n",
              "            title=\"Convert this dataframe to an interactive table.\"\n",
              "            style=\"display:none;\">\n",
              "\n",
              "  <svg xmlns=\"http://www.w3.org/2000/svg\" height=\"24px\" viewBox=\"0 -960 960 960\">\n",
              "    <path d=\"M120-120v-720h720v720H120Zm60-500h600v-160H180v160Zm220 220h160v-160H400v160Zm0 220h160v-160H400v160ZM180-400h160v-160H180v160Zm440 0h160v-160H620v160ZM180-180h160v-160H180v160Zm440 0h160v-160H620v160Z\"/>\n",
              "  </svg>\n",
              "    </button>\n",
              "\n",
              "  <style>\n",
              "    .colab-df-container {\n",
              "      display:flex;\n",
              "      gap: 12px;\n",
              "    }\n",
              "\n",
              "    .colab-df-convert {\n",
              "      background-color: #E8F0FE;\n",
              "      border: none;\n",
              "      border-radius: 50%;\n",
              "      cursor: pointer;\n",
              "      display: none;\n",
              "      fill: #1967D2;\n",
              "      height: 32px;\n",
              "      padding: 0 0 0 0;\n",
              "      width: 32px;\n",
              "    }\n",
              "\n",
              "    .colab-df-convert:hover {\n",
              "      background-color: #E2EBFA;\n",
              "      box-shadow: 0px 1px 2px rgba(60, 64, 67, 0.3), 0px 1px 3px 1px rgba(60, 64, 67, 0.15);\n",
              "      fill: #174EA6;\n",
              "    }\n",
              "\n",
              "    .colab-df-buttons div {\n",
              "      margin-bottom: 4px;\n",
              "    }\n",
              "\n",
              "    [theme=dark] .colab-df-convert {\n",
              "      background-color: #3B4455;\n",
              "      fill: #D2E3FC;\n",
              "    }\n",
              "\n",
              "    [theme=dark] .colab-df-convert:hover {\n",
              "      background-color: #434B5C;\n",
              "      box-shadow: 0px 1px 3px 1px rgba(0, 0, 0, 0.15);\n",
              "      filter: drop-shadow(0px 1px 2px rgba(0, 0, 0, 0.3));\n",
              "      fill: #FFFFFF;\n",
              "    }\n",
              "  </style>\n",
              "\n",
              "    <script>\n",
              "      const buttonEl =\n",
              "        document.querySelector('#df-414dd894-34be-407d-87e7-171e69b84bb1 button.colab-df-convert');\n",
              "      buttonEl.style.display =\n",
              "        google.colab.kernel.accessAllowed ? 'block' : 'none';\n",
              "\n",
              "      async function convertToInteractive(key) {\n",
              "        const element = document.querySelector('#df-414dd894-34be-407d-87e7-171e69b84bb1');\n",
              "        const dataTable =\n",
              "          await google.colab.kernel.invokeFunction('convertToInteractive',\n",
              "                                                    [key], {});\n",
              "        if (!dataTable) return;\n",
              "\n",
              "        const docLinkHtml = 'Like what you see? Visit the ' +\n",
              "          '<a target=\"_blank\" href=https://colab.research.google.com/notebooks/data_table.ipynb>data table notebook</a>'\n",
              "          + ' to learn more about interactive tables.';\n",
              "        element.innerHTML = '';\n",
              "        dataTable['output_type'] = 'display_data';\n",
              "        await google.colab.output.renderOutput(dataTable, element);\n",
              "        const docLink = document.createElement('div');\n",
              "        docLink.innerHTML = docLinkHtml;\n",
              "        element.appendChild(docLink);\n",
              "      }\n",
              "    </script>\n",
              "  </div>\n",
              "\n",
              "\n",
              "<div id=\"df-f20c1a11-ddfb-4ae7-945f-1d04710e1827\">\n",
              "  <button class=\"colab-df-quickchart\" onclick=\"quickchart('df-f20c1a11-ddfb-4ae7-945f-1d04710e1827')\"\n",
              "            title=\"Suggest charts\"\n",
              "            style=\"display:none;\">\n",
              "\n",
              "<svg xmlns=\"http://www.w3.org/2000/svg\" height=\"24px\"viewBox=\"0 0 24 24\"\n",
              "     width=\"24px\">\n",
              "    <g>\n",
              "        <path d=\"M19 3H5c-1.1 0-2 .9-2 2v14c0 1.1.9 2 2 2h14c1.1 0 2-.9 2-2V5c0-1.1-.9-2-2-2zM9 17H7v-7h2v7zm4 0h-2V7h2v10zm4 0h-2v-4h2v4z\"/>\n",
              "    </g>\n",
              "</svg>\n",
              "  </button>\n",
              "\n",
              "<style>\n",
              "  .colab-df-quickchart {\n",
              "      --bg-color: #E8F0FE;\n",
              "      --fill-color: #1967D2;\n",
              "      --hover-bg-color: #E2EBFA;\n",
              "      --hover-fill-color: #174EA6;\n",
              "      --disabled-fill-color: #AAA;\n",
              "      --disabled-bg-color: #DDD;\n",
              "  }\n",
              "\n",
              "  [theme=dark] .colab-df-quickchart {\n",
              "      --bg-color: #3B4455;\n",
              "      --fill-color: #D2E3FC;\n",
              "      --hover-bg-color: #434B5C;\n",
              "      --hover-fill-color: #FFFFFF;\n",
              "      --disabled-bg-color: #3B4455;\n",
              "      --disabled-fill-color: #666;\n",
              "  }\n",
              "\n",
              "  .colab-df-quickchart {\n",
              "    background-color: var(--bg-color);\n",
              "    border: none;\n",
              "    border-radius: 50%;\n",
              "    cursor: pointer;\n",
              "    display: none;\n",
              "    fill: var(--fill-color);\n",
              "    height: 32px;\n",
              "    padding: 0;\n",
              "    width: 32px;\n",
              "  }\n",
              "\n",
              "  .colab-df-quickchart:hover {\n",
              "    background-color: var(--hover-bg-color);\n",
              "    box-shadow: 0 1px 2px rgba(60, 64, 67, 0.3), 0 1px 3px 1px rgba(60, 64, 67, 0.15);\n",
              "    fill: var(--button-hover-fill-color);\n",
              "  }\n",
              "\n",
              "  .colab-df-quickchart-complete:disabled,\n",
              "  .colab-df-quickchart-complete:disabled:hover {\n",
              "    background-color: var(--disabled-bg-color);\n",
              "    fill: var(--disabled-fill-color);\n",
              "    box-shadow: none;\n",
              "  }\n",
              "\n",
              "  .colab-df-spinner {\n",
              "    border: 2px solid var(--fill-color);\n",
              "    border-color: transparent;\n",
              "    border-bottom-color: var(--fill-color);\n",
              "    animation:\n",
              "      spin 1s steps(1) infinite;\n",
              "  }\n",
              "\n",
              "  @keyframes spin {\n",
              "    0% {\n",
              "      border-color: transparent;\n",
              "      border-bottom-color: var(--fill-color);\n",
              "      border-left-color: var(--fill-color);\n",
              "    }\n",
              "    20% {\n",
              "      border-color: transparent;\n",
              "      border-left-color: var(--fill-color);\n",
              "      border-top-color: var(--fill-color);\n",
              "    }\n",
              "    30% {\n",
              "      border-color: transparent;\n",
              "      border-left-color: var(--fill-color);\n",
              "      border-top-color: var(--fill-color);\n",
              "      border-right-color: var(--fill-color);\n",
              "    }\n",
              "    40% {\n",
              "      border-color: transparent;\n",
              "      border-right-color: var(--fill-color);\n",
              "      border-top-color: var(--fill-color);\n",
              "    }\n",
              "    60% {\n",
              "      border-color: transparent;\n",
              "      border-right-color: var(--fill-color);\n",
              "    }\n",
              "    80% {\n",
              "      border-color: transparent;\n",
              "      border-right-color: var(--fill-color);\n",
              "      border-bottom-color: var(--fill-color);\n",
              "    }\n",
              "    90% {\n",
              "      border-color: transparent;\n",
              "      border-bottom-color: var(--fill-color);\n",
              "    }\n",
              "  }\n",
              "</style>\n",
              "\n",
              "  <script>\n",
              "    async function quickchart(key) {\n",
              "      const quickchartButtonEl =\n",
              "        document.querySelector('#' + key + ' button');\n",
              "      quickchartButtonEl.disabled = true;  // To prevent multiple clicks.\n",
              "      quickchartButtonEl.classList.add('colab-df-spinner');\n",
              "      try {\n",
              "        const charts = await google.colab.kernel.invokeFunction(\n",
              "            'suggestCharts', [key], {});\n",
              "      } catch (error) {\n",
              "        console.error('Error during call to suggestCharts:', error);\n",
              "      }\n",
              "      quickchartButtonEl.classList.remove('colab-df-spinner');\n",
              "      quickchartButtonEl.classList.add('colab-df-quickchart-complete');\n",
              "    }\n",
              "    (() => {\n",
              "      let quickchartButtonEl =\n",
              "        document.querySelector('#df-f20c1a11-ddfb-4ae7-945f-1d04710e1827 button');\n",
              "      quickchartButtonEl.style.display =\n",
              "        google.colab.kernel.accessAllowed ? 'block' : 'none';\n",
              "    })();\n",
              "  </script>\n",
              "</div>\n",
              "\n",
              "    </div>\n",
              "  </div>\n"
            ],
            "application/vnd.google.colaboratory.intrinsic+json": {
              "type": "dataframe",
              "summary": "{\n  \"name\": \"df_train\",\n  \"rows\": 10,\n  \"fields\": [\n    {\n      \"column\": \"PhraseId\",\n      \"properties\": {\n        \"dtype\": \"number\",\n        \"std\": 41815,\n        \"min\": 29786,\n        \"max\": 143252,\n        \"num_unique_values\": 10,\n        \"samples\": [\n          58779,\n          38661,\n          51801\n        ],\n        \"semantic_type\": \"\",\n        \"description\": \"\"\n      }\n    },\n    {\n      \"column\": \"SentenceId\",\n      \"properties\": {\n        \"dtype\": \"number\",\n        \"std\": 2353,\n        \"min\": 1381,\n        \"max\": 7776,\n        \"num_unique_values\": 10,\n        \"samples\": [\n          2964,\n          1843,\n          2555\n        ],\n        \"semantic_type\": \"\",\n        \"description\": \"\"\n      }\n    },\n    {\n      \"column\": \"Phrase\",\n      \"properties\": {\n        \"dtype\": \"string\",\n        \"num_unique_values\": 10,\n        \"samples\": [\n          \"The fluid motion\",\n          \"as a nifty plot line in Steven Soderbergh 's Traffic fails to arrive at any satisfying destination\",\n          \"see why people thought I was too hard on `` The Mothman Prophecies ''\"\n        ],\n        \"semantic_type\": \"\",\n        \"description\": \"\"\n      }\n    },\n    {\n      \"column\": \"Sentiment\",\n      \"properties\": {\n        \"dtype\": \"number\",\n        \"std\": 0,\n        \"min\": 1,\n        \"max\": 4,\n        \"num_unique_values\": 4,\n        \"samples\": [\n          1,\n          4,\n          3\n        ],\n        \"semantic_type\": \"\",\n        \"description\": \"\"\n      }\n    },\n    {\n      \"column\": \"Sentiment Phrase\",\n      \"properties\": {\n        \"dtype\": \"category\",\n        \"num_unique_values\": 4,\n        \"samples\": [\n          \"somewhat negative\",\n          \"positive\",\n          \"somewhat positive\"\n        ],\n        \"semantic_type\": \"\",\n        \"description\": \"\"\n      }\n    },\n    {\n      \"column\": \"preprocessed_text\",\n      \"properties\": {\n        \"dtype\": \"string\",\n        \"num_unique_values\": 10,\n        \"samples\": [\n          \"fluid motion\",\n          \"nifti plot line steven soderbergh traffic fail arriv satisfi destin\",\n          \"see peopl thought hard mothman propheci\"\n        ],\n        \"semantic_type\": \"\",\n        \"description\": \"\"\n      }\n    }\n  ]\n}"
            }
          },
          "metadata": {},
          "execution_count": 14
        }
      ]
    },
    {
      "cell_type": "code",
      "source": [
        "#Normalize Sentiment column\n",
        "from sklearn.preprocessing import MinMaxScaler\n",
        "scaler = MinMaxScaler()\n",
        "y = df_train['Sentiment'].values.reshape(-1,1)\n",
        "scaler.fit(y)\n",
        "y_scaled= scaler.transform(y)\n",
        "y_scaled"
      ],
      "metadata": {
        "colab": {
          "base_uri": "https://localhost:8080/"
        },
        "id": "XxvWPlVYFrED",
        "outputId": "8dee1ac5-c3d0-44db-bf55-48ce215945e6"
      },
      "execution_count": null,
      "outputs": [
        {
          "output_type": "execute_result",
          "data": {
            "text/plain": [
              "array([[1.  ],\n",
              "       [0.25],\n",
              "       [0.75],\n",
              "       ...,\n",
              "       [0.5 ],\n",
              "       [0.5 ],\n",
              "       [0.5 ]])"
            ]
          },
          "metadata": {},
          "execution_count": 15
        }
      ]
    },
    {
      "cell_type": "code",
      "source": [
        "from sklearn.model_selection import train_test_split\n",
        "X_train,X_test,y_train,y_test = train_test_split(df_train['preprocessed_text'].values,df_train['Sentiment'].values,test_size=0.2,random_state=43)"
      ],
      "metadata": {
        "id": "RkVfxHDmL6A7"
      },
      "execution_count": null,
      "outputs": []
    },
    {
      "cell_type": "code",
      "source": [
        "X_train.shape"
      ],
      "metadata": {
        "colab": {
          "base_uri": "https://localhost:8080/"
        },
        "id": "6fsCh6oiMtwb",
        "outputId": "92a88eb4-1dd3-4f42-a168-a4c683f027d4"
      },
      "execution_count": null,
      "outputs": [
        {
          "output_type": "execute_result",
          "data": {
            "text/plain": [
              "(84000,)"
            ]
          },
          "metadata": {},
          "execution_count": 17
        }
      ]
    },
    {
      "cell_type": "code",
      "source": [
        "X_test.shape"
      ],
      "metadata": {
        "colab": {
          "base_uri": "https://localhost:8080/"
        },
        "id": "GAgGxjB7Mwhx",
        "outputId": "e14478c4-b957-4aa5-ebba-5d08b97019ab"
      },
      "execution_count": null,
      "outputs": [
        {
          "output_type": "execute_result",
          "data": {
            "text/plain": [
              "(21000,)"
            ]
          },
          "metadata": {},
          "execution_count": 18
        }
      ]
    },
    {
      "cell_type": "code",
      "source": [
        "X_test"
      ],
      "metadata": {
        "colab": {
          "base_uri": "https://localhost:8080/"
        },
        "id": "dwuyuipXYg7w",
        "outputId": "b745b9e5-34b3-412f-9582-cea1ef0935bc"
      },
      "execution_count": null,
      "outputs": [
        {
          "output_type": "execute_result",
          "data": {
            "text/plain": [
              "array(['rape suspect murder', 'realli surpris', 'bar 3', ...,\n",
              "       'lifeaffirm vulgar mean', 'classic whale',\n",
              "       'problem difficult movi'], dtype=object)"
            ]
          },
          "metadata": {},
          "execution_count": 19
        }
      ]
    },
    {
      "cell_type": "code",
      "source": [
        "y_train"
      ],
      "metadata": {
        "colab": {
          "base_uri": "https://localhost:8080/"
        },
        "id": "vqn0Amc9RqAe",
        "outputId": "58b73a62-6d1f-4f82-f557-103b429f8e90"
      },
      "execution_count": null,
      "outputs": [
        {
          "output_type": "execute_result",
          "data": {
            "text/plain": [
              "array([3, 2, 2, ..., 3, 1, 2])"
            ]
          },
          "metadata": {},
          "execution_count": 20
        }
      ]
    },
    {
      "cell_type": "markdown",
      "source": [
        "#Vectorization: Tfidf"
      ],
      "metadata": {
        "id": "q3bqJYWXKa_j"
      }
    },
    {
      "cell_type": "code",
      "source": [
        "from sklearn.feature_extraction.text import TfidfVectorizer\n",
        "\n",
        "#Create Tfidf vectorizer\n",
        "tfidf_vectorizer = TfidfVectorizer(binary = False)\n",
        "\n",
        "# Fit and transform on training data\n",
        "X_train_tfidf = tfidf_vectorizer.fit_transform(X_train)\n",
        "\n",
        "# Only transform on testing data\n",
        "X_test_tfidf = tfidf_vectorizer.transform(X_test)"
      ],
      "metadata": {
        "id": "LuqMdIe-Kc0K"
      },
      "execution_count": null,
      "outputs": []
    },
    {
      "cell_type": "code",
      "source": [
        "X_train_tfidf.toarray().shape"
      ],
      "metadata": {
        "colab": {
          "base_uri": "https://localhost:8080/"
        },
        "id": "1hkQ_4L3QLmB",
        "outputId": "7eb1b7dd-4385-4236-fe34-6bfc21083fe6"
      },
      "execution_count": null,
      "outputs": [
        {
          "output_type": "execute_result",
          "data": {
            "text/plain": [
              "(84000, 11783)"
            ]
          },
          "metadata": {},
          "execution_count": 22
        }
      ]
    },
    {
      "cell_type": "code",
      "source": [
        "X_test_tfidf.toarray()"
      ],
      "metadata": {
        "colab": {
          "base_uri": "https://localhost:8080/"
        },
        "id": "tEou7yjbT875",
        "outputId": "0f9f9f76-740b-423d-bcd2-1df64538a4af"
      },
      "execution_count": null,
      "outputs": [
        {
          "output_type": "execute_result",
          "data": {
            "text/plain": [
              "array([[0., 0., 0., ..., 0., 0., 0.],\n",
              "       [0., 0., 0., ..., 0., 0., 0.],\n",
              "       [0., 0., 0., ..., 0., 0., 0.],\n",
              "       ...,\n",
              "       [0., 0., 0., ..., 0., 0., 0.],\n",
              "       [0., 0., 0., ..., 0., 0., 0.],\n",
              "       [0., 0., 0., ..., 0., 0., 0.]])"
            ]
          },
          "metadata": {},
          "execution_count": 23
        }
      ]
    },
    {
      "cell_type": "code",
      "source": [
        "X_test_tfidf.toarray().shape"
      ],
      "metadata": {
        "colab": {
          "base_uri": "https://localhost:8080/"
        },
        "id": "qTm2OjP8YuC_",
        "outputId": "219d150b-66a3-4173-9e3d-e4e68ba68b65"
      },
      "execution_count": null,
      "outputs": [
        {
          "output_type": "execute_result",
          "data": {
            "text/plain": [
              "(21000, 11783)"
            ]
          },
          "metadata": {},
          "execution_count": 24
        }
      ]
    },
    {
      "cell_type": "code",
      "source": [
        "X_test_tfidf.toarray()[5]"
      ],
      "metadata": {
        "colab": {
          "base_uri": "https://localhost:8080/"
        },
        "id": "cglYVMqyYwlu",
        "outputId": "190bc1bb-906d-4b88-86eb-162ba4dc8165"
      },
      "execution_count": null,
      "outputs": [
        {
          "output_type": "execute_result",
          "data": {
            "text/plain": [
              "array([0., 0., 0., ..., 0., 0., 0.])"
            ]
          },
          "metadata": {},
          "execution_count": 25
        }
      ]
    },
    {
      "cell_type": "markdown",
      "source": [
        "Model building"
      ],
      "metadata": {
        "id": "NUoaeFPeQjvk"
      }
    },
    {
      "cell_type": "code",
      "source": [
        "from sklearn.naive_bayes import GaussianNB,MultinomialNB, BernoulliNB\n",
        "from sklearn.metrics import accuracy_score, confusion_matrix, precision_score"
      ],
      "metadata": {
        "id": "c3XQWh6uQlYl"
      },
      "execution_count": null,
      "outputs": []
    },
    {
      "cell_type": "code",
      "source": [
        "def visuals(model,y_pred):\n",
        "  accuracy = accuracy_score(y_test,y_pred)\n",
        "  cm = confusion_matrix(y_test,y_pred)\n",
        "  ps  = precision_score(y_test,y_pred,average='weighted')\n",
        "  print(f\"********{model}***********\")\n",
        "  print(\"accuracy\")\n",
        "  print(accuracy)\n",
        "  print(\"Confusion Matrix\")\n",
        "  print(cm)\n",
        "  print(\"Precision Score\")\n",
        "  print(ps)"
      ],
      "metadata": {
        "id": "qURMUy6ZRec6"
      },
      "execution_count": null,
      "outputs": []
    },
    {
      "cell_type": "code",
      "source": [
        "g_model = GaussianNB()\n",
        "g_model.fit(X_train_tfidf.toarray(),y_train)\n",
        "y_pred = g_model.predict(X_test_tfidf.toarray())\n",
        "visuals('gaussianNB',y_pred)"
      ],
      "metadata": {
        "colab": {
          "base_uri": "https://localhost:8080/"
        },
        "id": "ngwX_VPiWSkm",
        "outputId": "7f49b2dc-4c25-4c01-e2d5-32c88de0367f"
      },
      "execution_count": null,
      "outputs": [
        {
          "output_type": "stream",
          "name": "stdout",
          "text": [
            "********gaussianNB***********\n",
            "accuracy\n",
            "0.1956190476190476\n",
            "Confusion Matrix\n",
            "[[ 671  157   31   17   72]\n",
            " [1796  945  129  207  588]\n",
            " [2798 1334  651 1317 4577]\n",
            " [ 494  213  125  842 2821]\n",
            " [  38   12   22  144  999]]\n",
            "Precision Score\n",
            "0.4904044529637364\n"
          ]
        }
      ]
    },
    {
      "cell_type": "code",
      "source": [
        "m_model = MultinomialNB()\n",
        "m_model.fit(X_train_tfidf.toarray(),y_train)\n",
        "y_pred = m_model.predict(X_test_tfidf.toarray())\n",
        "visuals('Multinomial',y_pred)"
      ],
      "metadata": {
        "colab": {
          "base_uri": "https://localhost:8080/"
        },
        "id": "wjAZw0HEVC9Z",
        "outputId": "e21808ad-ca76-475f-d651-352ec3851ff5"
      },
      "execution_count": null,
      "outputs": [
        {
          "output_type": "stream",
          "name": "stdout",
          "text": [
            "********Multinomial***********\n",
            "accuracy\n",
            "0.5730952380952381\n",
            "Confusion Matrix\n",
            "[[  28  347  548   25    0]\n",
            " [  17  853 2696   97    2]\n",
            " [   3  434 9565  668    7]\n",
            " [   0   52 2864 1552   27]\n",
            " [   0    3  492  683   37]]\n",
            "Precision Score\n",
            "0.5544597218967028\n"
          ]
        }
      ]
    },
    {
      "cell_type": "code",
      "source": [
        "b_model = BernoulliNB()\n",
        "b_model.fit(X_train_tfidf.toarray(),y_train)\n",
        "y_pred = b_model.predict(X_test_tfidf.toarray())\n",
        "visuals('Bernoulli',y_pred)"
      ],
      "metadata": {
        "colab": {
          "base_uri": "https://localhost:8080/"
        },
        "id": "Ywkk2DtmVPQe",
        "outputId": "124974f5-233e-4e0d-ca5d-3e5acbf004e4"
      },
      "execution_count": null,
      "outputs": [
        {
          "output_type": "stream",
          "name": "stdout",
          "text": [
            "********Bernoulli***********\n",
            "accuracy\n",
            "0.5968095238095238\n",
            "Confusion Matrix\n",
            "[[ 199  427  287   31    4]\n",
            " [ 170 1298 1962  198   37]\n",
            " [  73  669 9101  760   74]\n",
            " [  22  201 2316 1700  256]\n",
            " [   4   20  315  641  235]]\n",
            "Precision Score\n",
            "0.568497202952863\n"
          ]
        }
      ]
    },
    {
      "cell_type": "markdown",
      "source": [
        "Testing"
      ],
      "metadata": {
        "id": "W4VXETPZXohW"
      }
    },
    {
      "cell_type": "code",
      "source": [
        "preprocessed_text = text_preprocessing(\"I think the move was fun\")\n"
      ],
      "metadata": {
        "id": "jF9RlK_KUaii"
      },
      "execution_count": null,
      "outputs": []
    },
    {
      "cell_type": "code",
      "source": [
        "vectorize_text = tfidf_vectorizer.transform([preprocessed_text])\n",
        "vectorize_text.toarray()"
      ],
      "metadata": {
        "colab": {
          "base_uri": "https://localhost:8080/"
        },
        "id": "N0jMv4FjcBw6",
        "outputId": "32a68757-5019-4a1e-b42c-3fed10e65361"
      },
      "execution_count": null,
      "outputs": [
        {
          "output_type": "execute_result",
          "data": {
            "text/plain": [
              "array([[0., 0., 0., ..., 0., 0., 0.]])"
            ]
          },
          "metadata": {},
          "execution_count": 36
        }
      ]
    },
    {
      "cell_type": "code",
      "source": [
        "prediction = b_model.predict(vectorize_text.toarray())\n",
        "prediction[0]"
      ],
      "metadata": {
        "colab": {
          "base_uri": "https://localhost:8080/"
        },
        "id": "-5RdJ-55cgdH",
        "outputId": "b0ed40d6-1ee4-4095-cb7a-e5b9946dfc7c"
      },
      "execution_count": null,
      "outputs": [
        {
          "output_type": "execute_result",
          "data": {
            "text/plain": [
              "2"
            ]
          },
          "metadata": {},
          "execution_count": 38
        }
      ]
    },
    {
      "cell_type": "markdown",
      "source": [
        "Pickeling files"
      ],
      "metadata": {
        "id": "RaaGW6vAaxbf"
      }
    },
    {
      "cell_type": "code",
      "source": [
        "import pickle\n",
        "pickle.dump(b_model,open('bmodel.pkl','wb'))\n",
        "pickle.dump(tfidf_vectorizer,open('tfidf.pkl','wb'))"
      ],
      "metadata": {
        "id": "k5UHvxrNay-m"
      },
      "execution_count": null,
      "outputs": []
    }
  ]
}