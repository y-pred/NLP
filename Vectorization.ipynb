{
  "nbformat": 4,
  "nbformat_minor": 0,
  "metadata": {
    "colab": {
      "provenance": []
    },
    "kernelspec": {
      "name": "python3",
      "display_name": "Python 3"
    },
    "language_info": {
      "name": "python"
    }
  },
  "cells": [
    {
      "cell_type": "code",
      "execution_count": 22,
      "metadata": {
        "id": "KbqofTdFE2rD"
      },
      "outputs": [],
      "source": [
        "import numpy as np\n",
        "import pandas as pd\n"
      ]
    },
    {
      "cell_type": "code",
      "source": [
        "corpus = ['Hi I am Ram Diwedi',\n",
        "          'I live in Jaipur!',\n",
        "          'I, work as a shopkeeper']"
      ],
      "metadata": {
        "id": "J-dT7s1lFS-1"
      },
      "execution_count": 31,
      "outputs": []
    },
    {
      "cell_type": "code",
      "source": [
        "import nltk\n",
        "from nltk.tokenize import word_tokenize\n",
        "nltk.download('punkt')\n",
        "\n",
        "def custom_tokenizer(text):\n",
        "  return word_tokenize(text)\n"
      ],
      "metadata": {
        "colab": {
          "base_uri": "https://localhost:8080/"
        },
        "id": "MY2lVs7mFHst",
        "outputId": "c03f3c0c-ac06-4ec7-9f6d-262fdec30228"
      },
      "execution_count": 28,
      "outputs": [
        {
          "output_type": "stream",
          "name": "stderr",
          "text": [
            "[nltk_data] Downloading package punkt to /root/nltk_data...\n",
            "[nltk_data]   Package punkt is already up-to-date!\n"
          ]
        }
      ]
    },
    {
      "cell_type": "code",
      "source": [
        "import re\n",
        "# Custom preprocessor function to remove punctuation\n",
        "def remove_punctuation(text):\n",
        "    # Using regular expression to remove punctuation\n",
        "    return re.sub(r'[^\\w\\s]', '', text)\n"
      ],
      "metadata": {
        "id": "UI8gE_riFxNG"
      },
      "execution_count": 29,
      "outputs": []
    },
    {
      "cell_type": "code",
      "source": [
        "#Implementing Bag of Words\n",
        "\n",
        "from sklearn.feature_extraction.text import CountVectorizer\n",
        "cv = CountVectorizer(preprocessor=remove_punctuation,lowercase = True, stop_words ='english',tokenizer=custom_tokenizer,binary = False)\n",
        "bow = cv.fit_transform(corpus)\n",
        "\n",
        "print(cv.vocabulary_)\n",
        "print('__________________________________________')\n",
        "print(corpus)\n",
        "print('__________________________________________')\n",
        "print(bow.toarray())"
      ],
      "metadata": {
        "colab": {
          "base_uri": "https://localhost:8080/"
        },
        "id": "05JEpj9QGY4r",
        "outputId": "ab15a2cc-2475-4549-9ea9-383adaa65c93"
      },
      "execution_count": 36,
      "outputs": [
        {
          "output_type": "stream",
          "name": "stdout",
          "text": [
            "{'Hi': 1, 'I': 2, 'Ram': 4, 'Diwedi': 0, 'live': 5, 'Jaipur': 3, 'work': 7, 'shopkeeper': 6}\n",
            "__________________________________________\n",
            "['Hi I am Ram Diwedi', 'I live in Jaipur!', 'I, work as a shopkeeper']\n",
            "__________________________________________\n",
            "[[1 1 1 0 1 0 0 0]\n",
            " [0 0 1 1 0 1 0 0]\n",
            " [0 0 1 0 0 0 1 1]]\n"
          ]
        }
      ]
    },
    {
      "cell_type": "code",
      "source": [
        "#Implementing n-gram\n",
        "\n",
        "from sklearn.feature_extraction.text import CountVectorizer\n",
        "\n",
        "# Specify n-gram range (here, we consider unigrams and bigrams)\n",
        "ngram_range = (2, 3)\n",
        "\n",
        "cv = CountVectorizer(preprocessor=remove_punctuation,lowercase = True, stop_words ='english',ngram_range=ngram_range, tokenizer=custom_tokenizer,binary = False)\n",
        "\n",
        "ngram = cv.fit_transform(corpus)\n",
        "\n",
        "print(cv.vocabulary_)\n",
        "print('__________________________________________')\n",
        "print(corpus)\n",
        "print('__________________________________________')\n",
        "print(ngram.toarray())\n"
      ],
      "metadata": {
        "colab": {
          "base_uri": "https://localhost:8080/"
        },
        "id": "KQnW5L7FKLFR",
        "outputId": "4be62ad8-be2a-42c9-8144-f05a8049b88d"
      },
      "execution_count": 41,
      "outputs": [
        {
          "output_type": "stream",
          "name": "stdout",
          "text": [
            "{'Hi I': 0, 'I Ram': 2, 'Ram Diwedi': 8, 'Hi I Ram': 1, 'I Ram Diwedi': 3, 'I live': 4, 'live Jaipur': 9, 'I live Jaipur': 5, 'I work': 6, 'work shopkeeper': 10, 'I work shopkeeper': 7}\n",
            "__________________________________________\n",
            "['Hi I am Ram Diwedi', 'I live in Jaipur!', 'I, work as a shopkeeper']\n",
            "__________________________________________\n",
            "[[1 1 1 1 0 0 0 0 1 0 0]\n",
            " [0 0 0 0 1 1 0 0 0 1 0]\n",
            " [0 0 0 0 0 0 1 1 0 0 1]]\n"
          ]
        }
      ]
    },
    {
      "cell_type": "code",
      "source": [
        "from sklearn.feature_extraction.text import TfidfVectorizer\n",
        "\n",
        "# Create TfidfVectorizer\n",
        "tfidf_vectorizer = TfidfVectorizer(preprocessor=remove_punctuation,lowercase = True, stop_words ='english', tokenizer=custom_tokenizer,binary = False)\n",
        "\n",
        "# Fit and transform the corpus\n",
        "tfidf_matrix = tfidf_vectorizer.fit_transform(corpus)\n",
        "\n",
        "print(tfidf_vectorizer.get_feature_names_out())\n",
        "print('__________________________________________')\n",
        "print(corpus)\n",
        "print('__________________________________________')\n",
        "print(tfidf_matrix.toarray())\n"
      ],
      "metadata": {
        "colab": {
          "base_uri": "https://localhost:8080/"
        },
        "id": "aYj1bmf6MmtI",
        "outputId": "92e46c0f-3e47-4ca8-c93e-7287560c8f8a"
      },
      "execution_count": 46,
      "outputs": [
        {
          "output_type": "stream",
          "name": "stdout",
          "text": [
            "['Diwedi' 'Hi' 'I' 'Jaipur' 'Ram' 'live' 'shopkeeper' 'work']\n",
            "__________________________________________\n",
            "['Hi I am Ram Diwedi', 'I live in Jaipur!', 'I, work as a shopkeeper']\n",
            "__________________________________________\n",
            "[[0.54645401 0.54645401 0.32274454 0.         0.54645401 0.\n",
            "  0.         0.        ]\n",
            " [0.         0.         0.38537163 0.65249088 0.         0.65249088\n",
            "  0.         0.        ]\n",
            " [0.         0.         0.38537163 0.         0.         0.\n",
            "  0.65249088 0.65249088]]\n"
          ]
        }
      ]
    }
  ]
}