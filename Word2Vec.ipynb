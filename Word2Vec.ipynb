{
  "nbformat": 4,
  "nbformat_minor": 0,
  "metadata": {
    "colab": {
      "provenance": []
    },
    "kernelspec": {
      "name": "python3",
      "display_name": "Python 3"
    },
    "language_info": {
      "name": "python"
    }
  },
  "cells": [
    {
      "cell_type": "code",
      "execution_count": 15,
      "metadata": {
        "id": "Ut4TblZ8T9fe"
      },
      "outputs": [],
      "source": [
        "from gensim.models import Word2Vec"
      ]
    },
    {
      "cell_type": "code",
      "source": [
        "corpus = [\n",
        "    [\"i\", \"love\", \"eating\", \"pizza\"],\n",
        "    [\"pizza\", \"is\", \"my\", \"favorite\", \"food\"],\n",
        "    [\"do\", \"you\", \"want\", \"to\", \"order\", \"pizza\", \"tonight\"]\n",
        "]"
      ],
      "metadata": {
        "id": "HiYsjTe9UjFO"
      },
      "execution_count": 3,
      "outputs": []
    },
    {
      "cell_type": "code",
      "source": [
        "#Train the model\n",
        "model = Word2Vec(sentences =corpus,vector_size=2,window=3,min_count=1,workers=4)"
      ],
      "metadata": {
        "id": "wshuRKQ1UktF"
      },
      "execution_count": 6,
      "outputs": []
    },
    {
      "cell_type": "code",
      "source": [
        "#Get word vector\n",
        "word_vectors = model.wv\n",
        "word_vectors"
      ],
      "metadata": {
        "colab": {
          "base_uri": "https://localhost:8080/"
        },
        "id": "9cT_D5bzU6G_",
        "outputId": "f006a6c2-01a7-4e6b-e30d-69d267ebdc3b"
      },
      "execution_count": 8,
      "outputs": [
        {
          "output_type": "execute_result",
          "data": {
            "text/plain": [
              "<gensim.models.keyedvectors.KeyedVectors at 0x7e2f41a063b0>"
            ]
          },
          "metadata": {},
          "execution_count": 8
        }
      ]
    },
    {
      "cell_type": "code",
      "source": [
        "# Get the embedding vector for a word\n",
        "embedding = word_vectors['pizza']\n",
        "print(\"Embedding for pizza = \",embedding)"
      ],
      "metadata": {
        "colab": {
          "base_uri": "https://localhost:8080/"
        },
        "id": "Vu-f7P9NVFzW",
        "outputId": "bfdf1eba-8120-4e48-d0fb-60fd762dc9d0"
      },
      "execution_count": 9,
      "outputs": [
        {
          "output_type": "stream",
          "name": "stdout",
          "text": [
            "Embedding for pizza =  [-0.02681136  0.01182157]\n"
          ]
        }
      ]
    },
    {
      "cell_type": "code",
      "source": [
        "#Find similar words\n",
        "similar_words = word_vectors.most_similar('pizza',topn=3)\n",
        "print(\"Similar words to Pizza \", similar_words)"
      ],
      "metadata": {
        "colab": {
          "base_uri": "https://localhost:8080/"
        },
        "id": "i4QiqswVVQKn",
        "outputId": "5312f7d0-eff9-4b2b-a55f-ae074348d05a"
      },
      "execution_count": 10,
      "outputs": [
        {
          "output_type": "stream",
          "name": "stdout",
          "text": [
            "Similar words to Pizza  [('do', 0.8524928689002991), ('food', 0.7159137725830078), ('i', 0.5462554693222046)]\n"
          ]
        }
      ]
    },
    {
      "cell_type": "code",
      "source": [
        "#Find similarity score\n",
        "print(\"Similarity score between pizza and food = \",word_vectors.similarity('food','pizza'))\n",
        "print(\"Similarity score between pizza and favorite = \",word_vectors.similarity('favorite','pizza'))"
      ],
      "metadata": {
        "colab": {
          "base_uri": "https://localhost:8080/"
        },
        "id": "gwmp6QdQXCrT",
        "outputId": "b5052d15-23ac-4794-cfb6-3ed55c3aabe1"
      },
      "execution_count": 14,
      "outputs": [
        {
          "output_type": "stream",
          "name": "stdout",
          "text": [
            "Similarity score between pizza and food =  0.7159138\n",
            "Similarity score between pizza and favorite =  -0.73351425\n"
          ]
        }
      ]
    }
  ]
}